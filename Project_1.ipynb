{
 "cells": [
  {
   "cell_type": "markdown",
   "metadata": {
    "toc": true
   },
   "source": [
    "<h1>Содержание<span class=\"tocSkip\"></span></h1>\n",
    "<div class=\"toc\"><ul class=\"toc-item\"><li><span><a href=\"#Подготовка-данных\" data-toc-modified-id=\"Подготовка-данных-1\"><span class=\"toc-item-num\">1&nbsp;&nbsp;</span>Подготовка данных</a></span></li><li><span><a href=\"#Исследование-задачи\" data-toc-modified-id=\"Исследование-задачи-2\"><span class=\"toc-item-num\">2&nbsp;&nbsp;</span>Исследование задачи</a></span></li><li><span><a href=\"#Борьба-с-дисбалансом\" data-toc-modified-id=\"Борьба-с-дисбалансом-3\"><span class=\"toc-item-num\">3&nbsp;&nbsp;</span>Борьба с дисбалансом</a></span></li><li><span><a href=\"#Тестирование-модели\" data-toc-modified-id=\"Тестирование-модели-4\"><span class=\"toc-item-num\">4&nbsp;&nbsp;</span>Тестирование модели</a></span></li><li><span><a href=\"#Общий-вывод:\" data-toc-modified-id=\"Общий-вывод:-5\"><span class=\"toc-item-num\">5&nbsp;&nbsp;</span>Общий вывод:</a></span></li><li><span><a href=\"#Чек-лист-готовности-проекта\" data-toc-modified-id=\"Чек-лист-готовности-проекта-6\"><span class=\"toc-item-num\">6&nbsp;&nbsp;</span>Чек-лист готовности проекта</a></span></li></ul></div>"
   ]
  },
  {
   "cell_type": "markdown",
   "metadata": {},
   "source": [
    "Ссылка на репозиторий для код-ревьюера: https://github.com/MariLarionova/origin"
   ]
  },
  {
   "cell_type": "markdown",
   "metadata": {},
   "source": [
    "# Отток клиентов"
   ]
  },
  {
   "cell_type": "markdown",
   "metadata": {},
   "source": [
    "Из «Бета-Банка» стали уходить клиенты. Каждый месяц. Немного, но заметно. Банковские маркетологи посчитали: сохранять текущих клиентов дешевле, чем привлекать новых.\n",
    "\n",
    "Нужно спрогнозировать, уйдёт клиент из банка в ближайшее время или нет. Вам предоставлены исторические данные о поведении клиентов и расторжении договоров с банком. \n",
    "\n",
    "Постройте модель с предельно большим значением *F1*-меры. Чтобы сдать проект успешно, нужно довести метрику до 0.59. Проверьте *F1*-меру на тестовой выборке самостоятельно.\n",
    "\n",
    "Дополнительно измеряйте *AUC-ROC*, сравнивайте её значение с *F1*-мерой.\n",
    "\n",
    "Источник данных: [https://www.kaggle.com/barelydedicated/bank-customer-churn-modeling](https://www.kaggle.com/barelydedicated/bank-customer-churn-modeling)"
   ]
  },
  {
   "cell_type": "markdown",
   "metadata": {},
   "source": [
    "## Подготовка данных"
   ]
  },
  {
   "cell_type": "code",
   "execution_count": 64,
   "metadata": {},
   "outputs": [],
   "source": [
    "import pandas as pd\n",
    "import matplotlib.pyplot as plt\n",
    "import numpy as np\n",
    "from sklearn.tree import DecisionTreeClassifier\n",
    "from sklearn.ensemble import RandomForestClassifier\n",
    "from sklearn.linear_model import LogisticRegression\n",
    "from sklearn.model_selection import train_test_split\n",
    "from sklearn.preprocessing import OrdinalEncoder, StandardScaler\n",
    "from sklearn.utils import shuffle\n",
    "from sklearn.metrics import (\n",
    "    f1_score, \n",
    "    roc_curve, \n",
    "    roc_auc_score, \n",
    "    accuracy_score, \n",
    "    confusion_matrix, \n",
    "    recall_score, \n",
    "    precision_score\n",
    ")\n"
   ]
  },
  {
   "cell_type": "code",
   "execution_count": 65,
   "metadata": {},
   "outputs": [
    {
     "data": {
      "text/html": [
       "<div>\n",
       "<style scoped>\n",
       "    .dataframe tbody tr th:only-of-type {\n",
       "        vertical-align: middle;\n",
       "    }\n",
       "\n",
       "    .dataframe tbody tr th {\n",
       "        vertical-align: top;\n",
       "    }\n",
       "\n",
       "    .dataframe thead th {\n",
       "        text-align: right;\n",
       "    }\n",
       "</style>\n",
       "<table border=\"1\" class=\"dataframe\">\n",
       "  <thead>\n",
       "    <tr style=\"text-align: right;\">\n",
       "      <th></th>\n",
       "      <th>RowNumber</th>\n",
       "      <th>CustomerId</th>\n",
       "      <th>Surname</th>\n",
       "      <th>CreditScore</th>\n",
       "      <th>Geography</th>\n",
       "      <th>Gender</th>\n",
       "      <th>Age</th>\n",
       "      <th>Tenure</th>\n",
       "      <th>Balance</th>\n",
       "      <th>NumOfProducts</th>\n",
       "      <th>HasCrCard</th>\n",
       "      <th>IsActiveMember</th>\n",
       "      <th>EstimatedSalary</th>\n",
       "      <th>Exited</th>\n",
       "    </tr>\n",
       "  </thead>\n",
       "  <tbody>\n",
       "    <tr>\n",
       "      <th>0</th>\n",
       "      <td>1</td>\n",
       "      <td>15634602</td>\n",
       "      <td>Hargrave</td>\n",
       "      <td>619</td>\n",
       "      <td>France</td>\n",
       "      <td>Female</td>\n",
       "      <td>42</td>\n",
       "      <td>2.0</td>\n",
       "      <td>0.00</td>\n",
       "      <td>1</td>\n",
       "      <td>1</td>\n",
       "      <td>1</td>\n",
       "      <td>101348.88</td>\n",
       "      <td>1</td>\n",
       "    </tr>\n",
       "    <tr>\n",
       "      <th>1</th>\n",
       "      <td>2</td>\n",
       "      <td>15647311</td>\n",
       "      <td>Hill</td>\n",
       "      <td>608</td>\n",
       "      <td>Spain</td>\n",
       "      <td>Female</td>\n",
       "      <td>41</td>\n",
       "      <td>1.0</td>\n",
       "      <td>83807.86</td>\n",
       "      <td>1</td>\n",
       "      <td>0</td>\n",
       "      <td>1</td>\n",
       "      <td>112542.58</td>\n",
       "      <td>0</td>\n",
       "    </tr>\n",
       "    <tr>\n",
       "      <th>2</th>\n",
       "      <td>3</td>\n",
       "      <td>15619304</td>\n",
       "      <td>Onio</td>\n",
       "      <td>502</td>\n",
       "      <td>France</td>\n",
       "      <td>Female</td>\n",
       "      <td>42</td>\n",
       "      <td>8.0</td>\n",
       "      <td>159660.80</td>\n",
       "      <td>3</td>\n",
       "      <td>1</td>\n",
       "      <td>0</td>\n",
       "      <td>113931.57</td>\n",
       "      <td>1</td>\n",
       "    </tr>\n",
       "    <tr>\n",
       "      <th>3</th>\n",
       "      <td>4</td>\n",
       "      <td>15701354</td>\n",
       "      <td>Boni</td>\n",
       "      <td>699</td>\n",
       "      <td>France</td>\n",
       "      <td>Female</td>\n",
       "      <td>39</td>\n",
       "      <td>1.0</td>\n",
       "      <td>0.00</td>\n",
       "      <td>2</td>\n",
       "      <td>0</td>\n",
       "      <td>0</td>\n",
       "      <td>93826.63</td>\n",
       "      <td>0</td>\n",
       "    </tr>\n",
       "    <tr>\n",
       "      <th>4</th>\n",
       "      <td>5</td>\n",
       "      <td>15737888</td>\n",
       "      <td>Mitchell</td>\n",
       "      <td>850</td>\n",
       "      <td>Spain</td>\n",
       "      <td>Female</td>\n",
       "      <td>43</td>\n",
       "      <td>2.0</td>\n",
       "      <td>125510.82</td>\n",
       "      <td>1</td>\n",
       "      <td>1</td>\n",
       "      <td>1</td>\n",
       "      <td>79084.10</td>\n",
       "      <td>0</td>\n",
       "    </tr>\n",
       "    <tr>\n",
       "      <th>...</th>\n",
       "      <td>...</td>\n",
       "      <td>...</td>\n",
       "      <td>...</td>\n",
       "      <td>...</td>\n",
       "      <td>...</td>\n",
       "      <td>...</td>\n",
       "      <td>...</td>\n",
       "      <td>...</td>\n",
       "      <td>...</td>\n",
       "      <td>...</td>\n",
       "      <td>...</td>\n",
       "      <td>...</td>\n",
       "      <td>...</td>\n",
       "      <td>...</td>\n",
       "    </tr>\n",
       "    <tr>\n",
       "      <th>9995</th>\n",
       "      <td>9996</td>\n",
       "      <td>15606229</td>\n",
       "      <td>Obijiaku</td>\n",
       "      <td>771</td>\n",
       "      <td>France</td>\n",
       "      <td>Male</td>\n",
       "      <td>39</td>\n",
       "      <td>5.0</td>\n",
       "      <td>0.00</td>\n",
       "      <td>2</td>\n",
       "      <td>1</td>\n",
       "      <td>0</td>\n",
       "      <td>96270.64</td>\n",
       "      <td>0</td>\n",
       "    </tr>\n",
       "    <tr>\n",
       "      <th>9996</th>\n",
       "      <td>9997</td>\n",
       "      <td>15569892</td>\n",
       "      <td>Johnstone</td>\n",
       "      <td>516</td>\n",
       "      <td>France</td>\n",
       "      <td>Male</td>\n",
       "      <td>35</td>\n",
       "      <td>10.0</td>\n",
       "      <td>57369.61</td>\n",
       "      <td>1</td>\n",
       "      <td>1</td>\n",
       "      <td>1</td>\n",
       "      <td>101699.77</td>\n",
       "      <td>0</td>\n",
       "    </tr>\n",
       "    <tr>\n",
       "      <th>9997</th>\n",
       "      <td>9998</td>\n",
       "      <td>15584532</td>\n",
       "      <td>Liu</td>\n",
       "      <td>709</td>\n",
       "      <td>France</td>\n",
       "      <td>Female</td>\n",
       "      <td>36</td>\n",
       "      <td>7.0</td>\n",
       "      <td>0.00</td>\n",
       "      <td>1</td>\n",
       "      <td>0</td>\n",
       "      <td>1</td>\n",
       "      <td>42085.58</td>\n",
       "      <td>1</td>\n",
       "    </tr>\n",
       "    <tr>\n",
       "      <th>9998</th>\n",
       "      <td>9999</td>\n",
       "      <td>15682355</td>\n",
       "      <td>Sabbatini</td>\n",
       "      <td>772</td>\n",
       "      <td>Germany</td>\n",
       "      <td>Male</td>\n",
       "      <td>42</td>\n",
       "      <td>3.0</td>\n",
       "      <td>75075.31</td>\n",
       "      <td>2</td>\n",
       "      <td>1</td>\n",
       "      <td>0</td>\n",
       "      <td>92888.52</td>\n",
       "      <td>1</td>\n",
       "    </tr>\n",
       "    <tr>\n",
       "      <th>9999</th>\n",
       "      <td>10000</td>\n",
       "      <td>15628319</td>\n",
       "      <td>Walker</td>\n",
       "      <td>792</td>\n",
       "      <td>France</td>\n",
       "      <td>Female</td>\n",
       "      <td>28</td>\n",
       "      <td>NaN</td>\n",
       "      <td>130142.79</td>\n",
       "      <td>1</td>\n",
       "      <td>1</td>\n",
       "      <td>0</td>\n",
       "      <td>38190.78</td>\n",
       "      <td>0</td>\n",
       "    </tr>\n",
       "  </tbody>\n",
       "</table>\n",
       "<p>10000 rows × 14 columns</p>\n",
       "</div>"
      ],
      "text/plain": [
       "      RowNumber  CustomerId    Surname  CreditScore Geography  Gender  Age  \\\n",
       "0             1    15634602   Hargrave          619    France  Female   42   \n",
       "1             2    15647311       Hill          608     Spain  Female   41   \n",
       "2             3    15619304       Onio          502    France  Female   42   \n",
       "3             4    15701354       Boni          699    France  Female   39   \n",
       "4             5    15737888   Mitchell          850     Spain  Female   43   \n",
       "...         ...         ...        ...          ...       ...     ...  ...   \n",
       "9995       9996    15606229   Obijiaku          771    France    Male   39   \n",
       "9996       9997    15569892  Johnstone          516    France    Male   35   \n",
       "9997       9998    15584532        Liu          709    France  Female   36   \n",
       "9998       9999    15682355  Sabbatini          772   Germany    Male   42   \n",
       "9999      10000    15628319     Walker          792    France  Female   28   \n",
       "\n",
       "      Tenure    Balance  NumOfProducts  HasCrCard  IsActiveMember  \\\n",
       "0        2.0       0.00              1          1               1   \n",
       "1        1.0   83807.86              1          0               1   \n",
       "2        8.0  159660.80              3          1               0   \n",
       "3        1.0       0.00              2          0               0   \n",
       "4        2.0  125510.82              1          1               1   \n",
       "...      ...        ...            ...        ...             ...   \n",
       "9995     5.0       0.00              2          1               0   \n",
       "9996    10.0   57369.61              1          1               1   \n",
       "9997     7.0       0.00              1          0               1   \n",
       "9998     3.0   75075.31              2          1               0   \n",
       "9999     NaN  130142.79              1          1               0   \n",
       "\n",
       "      EstimatedSalary  Exited  \n",
       "0           101348.88       1  \n",
       "1           112542.58       0  \n",
       "2           113931.57       1  \n",
       "3            93826.63       0  \n",
       "4            79084.10       0  \n",
       "...               ...     ...  \n",
       "9995         96270.64       0  \n",
       "9996        101699.77       0  \n",
       "9997         42085.58       1  \n",
       "9998         92888.52       1  \n",
       "9999         38190.78       0  \n",
       "\n",
       "[10000 rows x 14 columns]"
      ]
     },
     "execution_count": 65,
     "metadata": {},
     "output_type": "execute_result"
    }
   ],
   "source": [
    "# Откроем наши DataFrame и результат выведем на экран \n",
    "df=pd.read_csv(r\"D:\\GitHab\\first_project\\Churn.csv\")\n",
    "df"
   ]
  },
  {
   "cell_type": "code",
   "execution_count": 66,
   "metadata": {},
   "outputs": [
    {
     "name": "stdout",
     "output_type": "stream",
     "text": [
      "<class 'pandas.core.frame.DataFrame'>\n",
      "RangeIndex: 10000 entries, 0 to 9999\n",
      "Data columns (total 14 columns):\n",
      " #   Column           Non-Null Count  Dtype  \n",
      "---  ------           --------------  -----  \n",
      " 0   RowNumber        10000 non-null  int64  \n",
      " 1   CustomerId       10000 non-null  int64  \n",
      " 2   Surname          10000 non-null  object \n",
      " 3   CreditScore      10000 non-null  int64  \n",
      " 4   Geography        10000 non-null  object \n",
      " 5   Gender           10000 non-null  object \n",
      " 6   Age              10000 non-null  int64  \n",
      " 7   Tenure           9091 non-null   float64\n",
      " 8   Balance          10000 non-null  float64\n",
      " 9   NumOfProducts    10000 non-null  int64  \n",
      " 10  HasCrCard        10000 non-null  int64  \n",
      " 11  IsActiveMember   10000 non-null  int64  \n",
      " 12  EstimatedSalary  10000 non-null  float64\n",
      " 13  Exited           10000 non-null  int64  \n",
      "dtypes: float64(3), int64(8), object(3)\n",
      "memory usage: 1.1+ MB\n"
     ]
    }
   ],
   "source": [
    "df.info()"
   ]
  },
  {
   "cell_type": "markdown",
   "metadata": {},
   "source": [
    "<div style=\"border:solid blue 2px; padding: 20px\">\n",
    "<font size=\"3\"><b> Комментарий студента 🎓 </b></font>\n",
    "    \n",
    "Выводы: \n",
    "    1. В данном датасете 13 признаков, целевой признак, 10000 строк\n",
    "    \n",
    "    2. Признаки:\n",
    "    - wNumber — индекс строки в данных (int64)\n",
    "    - CustomerId — уникальный идентификатор клиента (int64)\n",
    "    - Surname — фамилия (object)\n",
    "    - CreditScore — кредитный рейтинг (int64)\n",
    "    - Geography — страна проживания (object)\n",
    "    - Gender — пол (object)\n",
    "    - Age — возраст (int64)\n",
    "    - Tenure — количество недвижимости у клиента (float64)\n",
    "    - Balance — баланс на счёте (float64)\n",
    "    -NumOfProducts — количество продуктов банка, используемых клиентом (int64) \n",
    "    - HasCrCard — наличие кредитной карты (int64)\n",
    "    - IsActiveMember — активность клиента (int64)\n",
    "    - EstimatedSalary — предполагаемая зарплата (float64)\n",
    "    \n",
    "    3. Целевой признак:\n",
    "    - Exited — факт ухода клиента (int64)\n",
    "    \n",
    "    4. В данных присутствуют столбцы, которые не нужны. Их можно удалить. В анализе они не нужны. Также есть пропуски в значении недвижимости. Это означает, что у клиента нет ее. Значит можно просто заменить 0 и перевести в целочисленный тип.\n",
    "   \n",
    "</div>  "
   ]
  },
  {
   "cell_type": "code",
   "execution_count": 67,
   "metadata": {},
   "outputs": [],
   "source": [
    "# Удаляем лишние столбцы\n",
    "del_col=['RowNumber','EstimatedSalary','CustomerId','Surname']\n",
    "df=df.drop(del_col,axis=1)"
   ]
  },
  {
   "cell_type": "code",
   "execution_count": 68,
   "metadata": {},
   "outputs": [],
   "source": [
    "# Заполняем пропуски нулевыми данными - 0\n",
    "#df['Tenure']=df['Tenure'].fillna(0).astype('int64')\n"
   ]
  },
  {
   "cell_type": "code",
   "execution_count": 69,
   "metadata": {},
   "outputs": [
    {
     "name": "stdout",
     "output_type": "stream",
     "text": [
      "<class 'pandas.core.frame.DataFrame'>\n",
      "RangeIndex: 10000 entries, 0 to 9999\n",
      "Data columns (total 10 columns):\n",
      " #   Column          Non-Null Count  Dtype  \n",
      "---  ------          --------------  -----  \n",
      " 0   CreditScore     10000 non-null  int64  \n",
      " 1   Geography       10000 non-null  object \n",
      " 2   Gender          10000 non-null  object \n",
      " 3   Age             10000 non-null  int64  \n",
      " 4   Tenure          9091 non-null   float64\n",
      " 5   Balance         10000 non-null  float64\n",
      " 6   NumOfProducts   10000 non-null  int64  \n",
      " 7   HasCrCard       10000 non-null  int64  \n",
      " 8   IsActiveMember  10000 non-null  int64  \n",
      " 9   Exited          10000 non-null  int64  \n",
      "dtypes: float64(2), int64(6), object(2)\n",
      "memory usage: 781.4+ KB\n"
     ]
    }
   ],
   "source": [
    "df.info()"
   ]
  },
  {
   "cell_type": "code",
   "execution_count": 70,
   "metadata": {},
   "outputs": [],
   "source": [
    "df['Tenure'].fillna(df['Tenure'].median(), inplace = True)"
   ]
  },
  {
   "cell_type": "code",
   "execution_count": 71,
   "metadata": {},
   "outputs": [
    {
     "name": "stdout",
     "output_type": "stream",
     "text": [
      "<class 'pandas.core.frame.DataFrame'>\n",
      "RangeIndex: 10000 entries, 0 to 9999\n",
      "Data columns (total 10 columns):\n",
      " #   Column          Non-Null Count  Dtype  \n",
      "---  ------          --------------  -----  \n",
      " 0   CreditScore     10000 non-null  int64  \n",
      " 1   Geography       10000 non-null  object \n",
      " 2   Gender          10000 non-null  object \n",
      " 3   Age             10000 non-null  int64  \n",
      " 4   Tenure          10000 non-null  float64\n",
      " 5   Balance         10000 non-null  float64\n",
      " 6   NumOfProducts   10000 non-null  int64  \n",
      " 7   HasCrCard       10000 non-null  int64  \n",
      " 8   IsActiveMember  10000 non-null  int64  \n",
      " 9   Exited          10000 non-null  int64  \n",
      "dtypes: float64(2), int64(6), object(2)\n",
      "memory usage: 781.4+ KB\n"
     ]
    }
   ],
   "source": [
    "# Отобразим изменения\n",
    "df.info()"
   ]
  },
  {
   "cell_type": "code",
   "execution_count": 72,
   "metadata": {},
   "outputs": [
    {
     "data": {
      "text/plain": [
       "0        2\n",
       "1        1\n",
       "2        8\n",
       "3        1\n",
       "4        2\n",
       "        ..\n",
       "9995     5\n",
       "9996    10\n",
       "9997     7\n",
       "9998     3\n",
       "9999     5\n",
       "Name: Tenure, Length: 10000, dtype: int64"
      ]
     },
     "execution_count": 72,
     "metadata": {},
     "output_type": "execute_result"
    }
   ],
   "source": [
    "df['Tenure'].astype('int64')"
   ]
  },
  {
   "cell_type": "code",
   "execution_count": 73,
   "metadata": {},
   "outputs": [
    {
     "name": "stdout",
     "output_type": "stream",
     "text": [
      "<class 'pandas.core.frame.DataFrame'>\n",
      "RangeIndex: 10000 entries, 0 to 9999\n",
      "Data columns (total 10 columns):\n",
      " #   Column          Non-Null Count  Dtype  \n",
      "---  ------          --------------  -----  \n",
      " 0   CreditScore     10000 non-null  int64  \n",
      " 1   Geography       10000 non-null  object \n",
      " 2   Gender          10000 non-null  object \n",
      " 3   Age             10000 non-null  int64  \n",
      " 4   Tenure          10000 non-null  float64\n",
      " 5   Balance         10000 non-null  float64\n",
      " 6   NumOfProducts   10000 non-null  int64  \n",
      " 7   HasCrCard       10000 non-null  int64  \n",
      " 8   IsActiveMember  10000 non-null  int64  \n",
      " 9   Exited          10000 non-null  int64  \n",
      "dtypes: float64(2), int64(6), object(2)\n",
      "memory usage: 781.4+ KB\n"
     ]
    }
   ],
   "source": [
    "df.info()"
   ]
  },
  {
   "cell_type": "code",
   "execution_count": 74,
   "metadata": {},
   "outputs": [
    {
     "data": {
      "text/html": [
       "<div>\n",
       "<style scoped>\n",
       "    .dataframe tbody tr th:only-of-type {\n",
       "        vertical-align: middle;\n",
       "    }\n",
       "\n",
       "    .dataframe tbody tr th {\n",
       "        vertical-align: top;\n",
       "    }\n",
       "\n",
       "    .dataframe thead th {\n",
       "        text-align: right;\n",
       "    }\n",
       "</style>\n",
       "<table border=\"1\" class=\"dataframe\">\n",
       "  <thead>\n",
       "    <tr style=\"text-align: right;\">\n",
       "      <th></th>\n",
       "      <th>CreditScore</th>\n",
       "      <th>Geography</th>\n",
       "      <th>Gender</th>\n",
       "      <th>Age</th>\n",
       "      <th>Tenure</th>\n",
       "      <th>Balance</th>\n",
       "      <th>NumOfProducts</th>\n",
       "      <th>HasCrCard</th>\n",
       "      <th>IsActiveMember</th>\n",
       "      <th>Exited</th>\n",
       "    </tr>\n",
       "  </thead>\n",
       "  <tbody>\n",
       "    <tr>\n",
       "      <th>0</th>\n",
       "      <td>619</td>\n",
       "      <td>France</td>\n",
       "      <td>Female</td>\n",
       "      <td>42</td>\n",
       "      <td>2.0</td>\n",
       "      <td>0.00</td>\n",
       "      <td>1</td>\n",
       "      <td>1</td>\n",
       "      <td>1</td>\n",
       "      <td>1</td>\n",
       "    </tr>\n",
       "    <tr>\n",
       "      <th>1</th>\n",
       "      <td>608</td>\n",
       "      <td>Spain</td>\n",
       "      <td>Female</td>\n",
       "      <td>41</td>\n",
       "      <td>1.0</td>\n",
       "      <td>83807.86</td>\n",
       "      <td>1</td>\n",
       "      <td>0</td>\n",
       "      <td>1</td>\n",
       "      <td>0</td>\n",
       "    </tr>\n",
       "    <tr>\n",
       "      <th>2</th>\n",
       "      <td>502</td>\n",
       "      <td>France</td>\n",
       "      <td>Female</td>\n",
       "      <td>42</td>\n",
       "      <td>8.0</td>\n",
       "      <td>159660.80</td>\n",
       "      <td>3</td>\n",
       "      <td>1</td>\n",
       "      <td>0</td>\n",
       "      <td>1</td>\n",
       "    </tr>\n",
       "    <tr>\n",
       "      <th>3</th>\n",
       "      <td>699</td>\n",
       "      <td>France</td>\n",
       "      <td>Female</td>\n",
       "      <td>39</td>\n",
       "      <td>1.0</td>\n",
       "      <td>0.00</td>\n",
       "      <td>2</td>\n",
       "      <td>0</td>\n",
       "      <td>0</td>\n",
       "      <td>0</td>\n",
       "    </tr>\n",
       "    <tr>\n",
       "      <th>4</th>\n",
       "      <td>850</td>\n",
       "      <td>Spain</td>\n",
       "      <td>Female</td>\n",
       "      <td>43</td>\n",
       "      <td>2.0</td>\n",
       "      <td>125510.82</td>\n",
       "      <td>1</td>\n",
       "      <td>1</td>\n",
       "      <td>1</td>\n",
       "      <td>0</td>\n",
       "    </tr>\n",
       "  </tbody>\n",
       "</table>\n",
       "</div>"
      ],
      "text/plain": [
       "   CreditScore Geography  Gender  Age  Tenure    Balance  NumOfProducts  \\\n",
       "0          619    France  Female   42     2.0       0.00              1   \n",
       "1          608     Spain  Female   41     1.0   83807.86              1   \n",
       "2          502    France  Female   42     8.0  159660.80              3   \n",
       "3          699    France  Female   39     1.0       0.00              2   \n",
       "4          850     Spain  Female   43     2.0  125510.82              1   \n",
       "\n",
       "   HasCrCard  IsActiveMember  Exited  \n",
       "0          1               1       1  \n",
       "1          0               1       0  \n",
       "2          1               0       1  \n",
       "3          0               0       0  \n",
       "4          1               1       0  "
      ]
     },
     "execution_count": 74,
     "metadata": {},
     "output_type": "execute_result"
    }
   ],
   "source": [
    "df.head()"
   ]
  },
  {
   "cell_type": "markdown",
   "metadata": {},
   "source": [
    "## Исследование задачи"
   ]
  },
  {
   "cell_type": "code",
   "execution_count": 75,
   "metadata": {},
   "outputs": [
    {
     "data": {
      "text/plain": [
       "<Axes: title={'center': 'Соотношение тех, кто остался и тех кто ушел'}>"
      ]
     },
     "execution_count": 75,
     "metadata": {},
     "output_type": "execute_result"
    },
    {
     "data": {
      "image/png": "[encoded data removed]",
      "text/plain": [
       "<Figure size 1000x600 with 1 Axes>"
      ]
     },
     "metadata": {},
     "output_type": "display_data"
    }
   ],
   "source": [
    "# Рисуем гистограмму значений оттока и оставшихся клиентов\n",
    "df['Exited'].value_counts().plot(kind='bar',grid=True,figsize=(10,6),title='Соотношение тех, кто остался и тех кто ушел')"
   ]
  },
  {
   "cell_type": "markdown",
   "metadata": {},
   "source": [
    "<div style=\"border:solid blue 2px; padding: 20px\">\n",
    "<font size=\"3\"><b> Комментарий студента 🎓 </b></font>\n",
    "    \n",
    "Соотношение оттока и тех кто остался 1:4. \n",
    "Вывод: такое соотношение говорит, что присутствует дисбаланс в данных. Попробуем оценить зависимость возраста и оттока клиентв.\n",
    "</div>  "
   ]
  },
  {
   "cell_type": "code",
   "execution_count": 76,
   "metadata": {},
   "outputs": [
    {
     "data": {
      "image/png": "[encoded data removed]",
      "text/plain": [
       "<Figure size 1500x600 with 1 Axes>"
      ]
     },
     "metadata": {},
     "output_type": "display_data"
    }
   ],
   "source": [
    "# Посмотрим как зависит возраст и отток клиентов \n",
    "df.groupby('Age')['Exited'].sum().plot(figsize=(15,6),kind='bar',title='Гистограмма возраста и оттока')\n",
    "plt.show()"
   ]
  },
  {
   "cell_type": "markdown",
   "metadata": {},
   "source": [
    "<div style=\"border:solid blue 2px; padding: 20px\">\n",
    "<font size=\"3\"><b> Комментарий студента 🎓 </b></font>\n",
    "    \n",
    "По гистограмме распределения видно, что есть связь между оттоком и возрастом. Распределение нормально. Больше всего уходит клиентов в возрасте от 40 до 46 лет.\n",
    "</div> "
   ]
  },
  {
   "cell_type": "code",
   "execution_count": 77,
   "metadata": {},
   "outputs": [
    {
     "data": {
      "image/png": "[encoded data removed]",
      "text/plain": [
       "<Figure size 1500x600 with 1 Axes>"
      ]
     },
     "metadata": {},
     "output_type": "display_data"
    }
   ],
   "source": [
    "# Посмотрим как зависит наличие недвижимости и отток клиентов\n",
    "df.groupby('Tenure')['Exited'].count().plot(figsize=(15,6),kind='bar',title='Гистограмма наличия недвижимости и оттока')\n",
    "plt.show()"
   ]
  },
  {
   "cell_type": "markdown",
   "metadata": {},
   "source": [
    "<div style=\"border:solid blue 2px; padding: 20px\">\n",
    "<font size=\"3\"><b> Комментарий студента 🎓 </b></font>\n",
    "    \n",
    "На этой гисторгамме не видна явно выраженная зависимость, но можно увидеть, что те у кого нет недвижимости уходят чаще.\n",
    "</div> "
   ]
  },
  {
   "cell_type": "code",
   "execution_count": 78,
   "metadata": {},
   "outputs": [
    {
     "data": {
      "text/plain": [
       "<Axes: title={'center': 'Гистограмма медианного баланса денег у тех кто ушел и тех кто остался'}, xlabel='Exited'>"
      ]
     },
     "execution_count": 78,
     "metadata": {},
     "output_type": "execute_result"
    },
    {
     "data": {
      "image/png": "[encoded data removed]",
      "text/plain": [
       "<Figure size 640x480 with 1 Axes>"
      ]
     },
     "metadata": {},
     "output_type": "display_data"
    }
   ],
   "source": [
    "# Построим еще одну гистограмму, чтобы посмотреть \n",
    "# медиану баланса денег у тех кто ушел и тех кто остался\n",
    "df.groupby('Exited')['Balance'].median().plot(kind\n",
    "                                              ='bar',title\n",
    "                                              ='Гистограмма медианного баланса денег у тех кто ушел и тех кто остался')"
   ]
  },
  {
   "cell_type": "markdown",
   "metadata": {},
   "source": [
    "<div style=\"border:solid blue 2px; padding: 20px\">\n",
    "<font size=\"3\"><b> Комментарий студента 🎓 </b></font>\n",
    "На гистограмме видно, что зависимость слабая, но среднее значение баланса немного выше у тех кто ушел   \n",
    "</div>\n"
   ]
  },
  {
   "cell_type": "code",
   "execution_count": 79,
   "metadata": {},
   "outputs": [
    {
     "data": {
      "text/html": [
       "<div>\n",
       "<style scoped>\n",
       "    .dataframe tbody tr th:only-of-type {\n",
       "        vertical-align: middle;\n",
       "    }\n",
       "\n",
       "    .dataframe tbody tr th {\n",
       "        vertical-align: top;\n",
       "    }\n",
       "\n",
       "    .dataframe thead th {\n",
       "        text-align: right;\n",
       "    }\n",
       "</style>\n",
       "<table border=\"1\" class=\"dataframe\">\n",
       "  <thead>\n",
       "    <tr style=\"text-align: right;\">\n",
       "      <th></th>\n",
       "      <th>CreditScore</th>\n",
       "      <th>Age</th>\n",
       "      <th>Tenure</th>\n",
       "      <th>Balance</th>\n",
       "      <th>NumOfProducts</th>\n",
       "      <th>HasCrCard</th>\n",
       "      <th>IsActiveMember</th>\n",
       "      <th>Exited</th>\n",
       "    </tr>\n",
       "  </thead>\n",
       "  <tbody>\n",
       "    <tr>\n",
       "      <th>CreditScore</th>\n",
       "      <td>1.000000</td>\n",
       "      <td>-0.003965</td>\n",
       "      <td>-0.000060</td>\n",
       "      <td>0.006268</td>\n",
       "      <td>0.012238</td>\n",
       "      <td>-0.005458</td>\n",
       "      <td>0.025651</td>\n",
       "      <td>-0.027094</td>\n",
       "    </tr>\n",
       "    <tr>\n",
       "      <th>Age</th>\n",
       "      <td>-0.003965</td>\n",
       "      <td>1.000000</td>\n",
       "      <td>-0.012606</td>\n",
       "      <td>0.028308</td>\n",
       "      <td>-0.030680</td>\n",
       "      <td>-0.011721</td>\n",
       "      <td>0.085472</td>\n",
       "      <td>0.285323</td>\n",
       "    </tr>\n",
       "    <tr>\n",
       "      <th>Tenure</th>\n",
       "      <td>-0.000060</td>\n",
       "      <td>-0.012606</td>\n",
       "      <td>1.000000</td>\n",
       "      <td>-0.007535</td>\n",
       "      <td>0.011409</td>\n",
       "      <td>0.025979</td>\n",
       "      <td>-0.030681</td>\n",
       "      <td>-0.015989</td>\n",
       "    </tr>\n",
       "    <tr>\n",
       "      <th>Balance</th>\n",
       "      <td>0.006268</td>\n",
       "      <td>0.028308</td>\n",
       "      <td>-0.007535</td>\n",
       "      <td>1.000000</td>\n",
       "      <td>-0.304180</td>\n",
       "      <td>-0.014858</td>\n",
       "      <td>-0.010084</td>\n",
       "      <td>0.118533</td>\n",
       "    </tr>\n",
       "    <tr>\n",
       "      <th>NumOfProducts</th>\n",
       "      <td>0.012238</td>\n",
       "      <td>-0.030680</td>\n",
       "      <td>0.011409</td>\n",
       "      <td>-0.304180</td>\n",
       "      <td>1.000000</td>\n",
       "      <td>0.003183</td>\n",
       "      <td>0.009612</td>\n",
       "      <td>-0.047820</td>\n",
       "    </tr>\n",
       "    <tr>\n",
       "      <th>HasCrCard</th>\n",
       "      <td>-0.005458</td>\n",
       "      <td>-0.011721</td>\n",
       "      <td>0.025979</td>\n",
       "      <td>-0.014858</td>\n",
       "      <td>0.003183</td>\n",
       "      <td>1.000000</td>\n",
       "      <td>-0.011866</td>\n",
       "      <td>-0.007138</td>\n",
       "    </tr>\n",
       "    <tr>\n",
       "      <th>IsActiveMember</th>\n",
       "      <td>0.025651</td>\n",
       "      <td>0.085472</td>\n",
       "      <td>-0.030681</td>\n",
       "      <td>-0.010084</td>\n",
       "      <td>0.009612</td>\n",
       "      <td>-0.011866</td>\n",
       "      <td>1.000000</td>\n",
       "      <td>-0.156128</td>\n",
       "    </tr>\n",
       "    <tr>\n",
       "      <th>Exited</th>\n",
       "      <td>-0.027094</td>\n",
       "      <td>0.285323</td>\n",
       "      <td>-0.015989</td>\n",
       "      <td>0.118533</td>\n",
       "      <td>-0.047820</td>\n",
       "      <td>-0.007138</td>\n",
       "      <td>-0.156128</td>\n",
       "      <td>1.000000</td>\n",
       "    </tr>\n",
       "  </tbody>\n",
       "</table>\n",
       "</div>"
      ],
      "text/plain": [
       "                CreditScore       Age    Tenure   Balance  NumOfProducts  \\\n",
       "CreditScore        1.000000 -0.003965 -0.000060  0.006268       0.012238   \n",
       "Age               -0.003965  1.000000 -0.012606  0.028308      -0.030680   \n",
       "Tenure            -0.000060 -0.012606  1.000000 -0.007535       0.011409   \n",
       "Balance            0.006268  0.028308 -0.007535  1.000000      -0.304180   \n",
       "NumOfProducts      0.012238 -0.030680  0.011409 -0.304180       1.000000   \n",
       "HasCrCard         -0.005458 -0.011721  0.025979 -0.014858       0.003183   \n",
       "IsActiveMember     0.025651  0.085472 -0.030681 -0.010084       0.009612   \n",
       "Exited            -0.027094  0.285323 -0.015989  0.118533      -0.047820   \n",
       "\n",
       "                HasCrCard  IsActiveMember    Exited  \n",
       "CreditScore     -0.005458        0.025651 -0.027094  \n",
       "Age             -0.011721        0.085472  0.285323  \n",
       "Tenure           0.025979       -0.030681 -0.015989  \n",
       "Balance         -0.014858       -0.010084  0.118533  \n",
       "NumOfProducts    0.003183        0.009612 -0.047820  \n",
       "HasCrCard        1.000000       -0.011866 -0.007138  \n",
       "IsActiveMember  -0.011866        1.000000 -0.156128  \n",
       "Exited          -0.007138       -0.156128  1.000000  "
      ]
     },
     "execution_count": 79,
     "metadata": {},
     "output_type": "execute_result"
    }
   ],
   "source": [
    "#Посчитаем корреляцию Пирсона\n",
    "df.corr()"
   ]
  },
  {
   "cell_type": "markdown",
   "metadata": {},
   "source": [
    "<div style=\"border:solid blue 2px; padding: 20px\">\n",
    "<font size=\"3\"><b> Комментарий студента 🎓 </b></font>\n",
    "Видно, что все признаки слабо коррелируются с целевым признаком. Скорее всего в данных прослеживается более сложная зависимость \n",
    "</div>\n"
   ]
  },
  {
   "cell_type": "code",
   "execution_count": 80,
   "metadata": {},
   "outputs": [],
   "source": [
    "# Избавляемся от категориальных признаков методом One hot encoder.\n",
    "# Вызываем метод get_dummies для избавления от категориальных признаков\n",
    "df_ohe=pd.get_dummies(df,drop_first=True)"
   ]
  },
  {
   "cell_type": "code",
   "execution_count": 81,
   "metadata": {},
   "outputs": [],
   "source": [
    "# Целевой признак\n",
    "target=df_ohe['Exited']"
   ]
  },
  {
   "cell_type": "code",
   "execution_count": 82,
   "metadata": {},
   "outputs": [],
   "source": [
    "# Признаки\n",
    "features=df_ohe.drop(['Exited'],axis=1)"
   ]
  },
  {
   "cell_type": "code",
   "execution_count": 83,
   "metadata": {},
   "outputs": [],
   "source": [
    "#Разбиваем данные после OHE на следующие выборки \n",
    "#train_features,valid_features,train_target,valid_target=train_test_split(features,target,test_size=0.25,random_state=1234)\n"
   ]
  },
  {
   "cell_type": "code",
   "execution_count": 84,
   "metadata": {},
   "outputs": [],
   "source": [
    "features = df_ohe.drop(['Exited'], axis=1)\n",
    "target = df_ohe['Exited']\n",
    "\n",
    "features_temp, test_features, target_temp, test_target = train_test_split(features, target, test_size=0.2, random_state=12345)\n",
    "train_features, valid_features, train_target, valid_target = train_test_split(features_temp, target_temp, test_size=0.25, random_state=12345)"
   ]
  },
  {
   "cell_type": "code",
   "execution_count": 85,
   "metadata": {},
   "outputs": [],
   "source": [
    "# Стандартизируем тестовую и валидную выборку, \n",
    "# т.к есть значения и маленькие и очень большие\n",
    "numeric=['CreditScore','Age','Tenure','Balance','NumOfProducts','HasCrCard','IsActiveMember']\n",
    "scaler=StandardScaler()\n",
    "scaler.fit(train_features[numeric])\n",
    "train_features[numeric]=scaler.transform(train_features[numeric])\n",
    "valid_features[numeric]=scaler.transform(valid_features[numeric])\n",
    "test_features[numeric]=scaler.transform(test_features[numeric])"
   ]
  },
  {
   "cell_type": "code",
   "execution_count": 86,
   "metadata": {},
   "outputs": [],
   "source": [
    "# код ревьюера (вот так)\n",
    "import warnings\n",
    "warnings.filterwarnings('ignore')"
   ]
  },
  {
   "cell_type": "markdown",
   "metadata": {},
   "source": [
    "<div style=\"border:solid blue 2px; padding: 20px\">\n",
    "<font size=\"3\"><b> Комментарий студента 🎓 </b></font>\n",
    "Метод Original encoder не принес хорошего результата, поэтому представлен в виде комментария, который впоследствии удалила. См. коммент. ниже.\n",
    "</div>"
   ]
  },
  {
   "cell_type": "code",
   "execution_count": 87,
   "metadata": {},
   "outputs": [
    {
     "name": "stdout",
     "output_type": "stream",
     "text": [
      "max_depth: 1 F1: 0.0\n",
      "max_depth: 2 F1: 0.5037037037037037\n",
      "max_depth: 3 F1: 0.39382239382239387\n",
      "max_depth: 4 F1: 0.430188679245283\n",
      "max_depth: 5 F1: 0.5465838509316769\n",
      "max_depth: 6 F1: 0.5078260869565216\n",
      "max_depth: 7 F1: 0.555205047318612\n",
      "max_depth: 8 F1: 0.5496894409937887\n",
      "max_depth: 9 F1: 0.543778801843318\n",
      "max_depth: 10 F1: 0.5387994143484626\n",
      "max_depth: 11 F1: 0.5362962962962964\n",
      "max_depth: 12 F1: 0.5192582025677603\n",
      "max_depth: 13 F1: 0.5108695652173912\n",
      "max_depth: 14 F1: 0.5143603133159269\n",
      "max_depth: 15 F1: 0.5235602094240838\n",
      "max_depth: 16 F1: 0.5179282868525895\n",
      "max_depth: 17 F1: 0.5083440308087293\n",
      "max_depth: 18 F1: 0.5019011406844106\n",
      "max_depth: 19 F1: 0.505\n",
      "max_depth: 20 F1: 0.4875621890547263\n",
      "max_depth: 21 F1: 0.48470012239902077\n",
      "max_depth: 22 F1: 0.4877450980392157\n",
      "max_depth: 23 F1: 0.48462484624846247\n",
      "max_depth: 24 F1: 0.4864864864864865\n"
     ]
    }
   ],
   "source": [
    "# Построим модель без учета баланса\n",
    "# 1. Обучение с помощью модели Дерево решения\n",
    "# Поищем циклом лучший гиперпораметр max_depth\n",
    "for depth in range(1,25,1):\n",
    "    model_tree=DecisionTreeClassifier(max_depth=depth,random_state=1234).fit(train_features,train_target)\n",
    "    prediction=model_tree.predict(valid_features)\n",
    "    print('max_depth:',depth,'F1:',f1_score(valid_target,prediction))"
   ]
  },
  {
   "cell_type": "markdown",
   "metadata": {},
   "source": [
    "<div style=\"border:solid blue 2px; padding: 20px\">\n",
    "<font size=\"3\"><b> Комментарий студента 🎓 </b></font>\n",
    "Лучшее значение max_depth=7, при котором F1=0,555\n",
    "</div>"
   ]
  },
  {
   "cell_type": "code",
   "execution_count": 130,
   "metadata": {},
   "outputs": [
    {
     "name": "stdout",
     "output_type": "stream",
     "text": [
      "max_depth: 1 F1: 0.02525252525252525\n",
      "max_depth: 2 F1: 0.21315192743764172\n",
      "max_depth: 3 F1: 0.3443983402489626\n",
      "max_depth: 4 F1: 0.3614457831325301\n",
      "max_depth: 5 F1: 0.4326375711574953\n",
      "max_depth: 6 F1: 0.5189003436426117\n",
      "max_depth: 7 F1: 0.524701873935264\n",
      "max_depth: 8 F1: 0.5460526315789473\n",
      "max_depth: 9 F1: 0.5436573311367381\n",
      "max_depth: 10 F1: 0.5481239804241436\n",
      "max_depth: 11 F1: 0.5407166123778502\n",
      "max_depth: 12 F1: 0.5632\n",
      "max_depth: 13 F1: 0.5777080062794349\n",
      "max_depth: 14 F1: 0.5539452495974235\n",
      "max_depth: 15 F1: 0.5644171779141104\n",
      "max_depth: 16 F1: 0.563467492260062\n",
      "max_depth: 17 F1: 0.5656877897990726\n",
      "max_depth: 18 F1: 0.5588697017268446\n",
      "max_depth: 19 F1: 0.5834633385335413\n",
      "max_depth: 20 F1: 0.5696594427244581\n",
      "max_depth: 21 F1: 0.567398119122257\n",
      "max_depth: 22 F1: 0.5599999999999999\n",
      "max_depth: 23 F1: 0.5569230769230769\n",
      "max_depth: 24 F1: 0.5603715170278637\n",
      "max_depth: 25 F1: 0.5599999999999999\n",
      "max_depth: 26 F1: 0.5758513931888545\n",
      "max_depth: 27 F1: 0.5727554179566563\n",
      "max_depth: 28 F1: 0.5727554179566563\n",
      "max_depth: 29 F1: 0.5727554179566563\n"
     ]
    }
   ],
   "source": [
    "# 2. Обучение с помощью модели Случайный лес\n",
    "# Поищем циклом лучший гиперпораметр max_depth\n",
    "for max_depth in range(1,30,1):\n",
    "    model_forest=RandomForestClassifier(max_depth=max_depth,n_estimators=50,random_state=1234).fit(train_features,train_target)\n",
    "    prediction=model_forest.predict(valid_features)\n",
    "    print('max_depth:',max_depth,'F1:',f1_score(valid_target,prediction))"
   ]
  },
  {
   "cell_type": "markdown",
   "metadata": {},
   "source": [
    "<div style=\"border:solid blue 2px; padding: 20px\">\n",
    "<font size=\"3\"><b> Комментарий студента 🎓 </b></font>\n",
    "Лучшее значение max_depth=19, при котором F1=0,583\n",
    "</div>"
   ]
  },
  {
   "cell_type": "code",
   "execution_count": 89,
   "metadata": {},
   "outputs": [
    {
     "name": "stdout",
     "output_type": "stream",
     "text": [
      "estim 1 F1: 0.45268542199488493\n",
      "estim 3 F1: 0.502127659574468\n",
      "estim 5 F1: 0.5178571428571429\n",
      "estim 7 F1: 0.5443609022556392\n",
      "estim 9 F1: 0.5586924219910847\n",
      "estim 11 F1: 0.5498489425981873\n",
      "estim 13 F1: 0.5501519756838906\n",
      "estim 15 F1: 0.5614567526555386\n",
      "estim 17 F1: 0.5586419753086419\n",
      "estim 19 F1: 0.5674846625766872\n",
      "estim 21 F1: 0.5639445300462249\n",
      "estim 23 F1: 0.5618320610687023\n",
      "estim 25 F1: 0.5696784073506892\n",
      "estim 27 F1: 0.5718654434250764\n",
      "estim 29 F1: 0.5866261398176292\n",
      "estim 31 F1: 0.5788667687595712\n",
      "estim 33 F1: 0.5878787878787879\n",
      "estim 35 F1: 0.5797546012269938\n",
      "estim 37 F1: 0.5815384615384616\n",
      "estim 39 F1: 0.5771604938271605\n",
      "estim 41 F1: 0.5833333333333334\n",
      "estim 43 F1: 0.5824345146379045\n",
      "estim 45 F1: 0.5855161787365177\n",
      "estim 47 F1: 0.5846153846153846\n",
      "estim 49 F1: 0.588597842835131\n",
      "estim 51 F1: 0.5811437403400309\n",
      "estim 53 F1: 0.586046511627907\n"
     ]
    }
   ],
   "source": [
    "# Циклом подбираем гиперпораметр n_estimators (количество деревьев)\n",
    "for estim in range(1,55,2):\n",
    "    model_forest=RandomForestClassifier(max_depth=19,n_estimators=estim,random_state=1234).fit(train_features,train_target)\n",
    "    prediction=model_forest.predict(valid_features)\n",
    "    print('estim',estim,'F1:',f1_score(valid_target,prediction))\n",
    "    \n",
    "    "
   ]
  },
  {
   "cell_type": "code",
   "execution_count": 90,
   "metadata": {},
   "outputs": [],
   "source": [
    "#for estim in range(1, 25, 1):\n",
    "    #for depth in range(1, 50, 2):\n",
    "        #model = RandomForestClassifier(random_state=12345, n_estimators=estim, max_depth=depth)\n",
    "        #prediction=model_forest.predict(valid_features)\n",
    "        #print('max_depth:',max_depth, 'estim:', estim, 'F1:',f1_score(valid_target,prediction) \n",
    "    "
   ]
  },
  {
   "cell_type": "markdown",
   "metadata": {},
   "source": [
    "<div style=\"border:solid blue 2px; padding: 20px\">\n",
    "<font size=\"3\"><b> Комментарий студента 🎓 </b></font>\n",
    "Лучшее значение max_depth=19 и n_estimators=49, при котором F1=0,589. Наблюдаем отрицательную динамику\n",
    "</div>"
   ]
  },
  {
   "cell_type": "code",
   "execution_count": 91,
   "metadata": {},
   "outputs": [
    {
     "name": "stdout",
     "output_type": "stream",
     "text": [
      "F1: 0.30018761726078796\n"
     ]
    }
   ],
   "source": [
    "#Обучение с помощью модели Логистической регрессии\n",
    "model_logistic=LogisticRegression().fit(train_features,train_target)\n",
    "prediction=model_logistic.predict(valid_features)\n",
    "print('F1:',f1_score(valid_target,prediction))"
   ]
  },
  {
   "cell_type": "markdown",
   "metadata": {},
   "source": [
    "<div style=\"border:solid blue 2px; padding: 20px\">\n",
    "<font size=\"3\"><b> Комментарий студента 🎓 </b></font>\n",
    "Вывод:\n",
    "Рассматривая данные с дисбалансом (но, с переведенными категориальными и стандартизированными данными) тремя моделями можно сделать вывод, что самая лучшая модель оказалась Случайный лес. При лучшем значении max_depth=19, мы имеем F1=0,583 на тестовой(валидной) выборке. Самый плохой результат показала модель Логистическая регрессия с F1=0.300.\n",
    "</div>\n"
   ]
  },
  {
   "cell_type": "code",
   "execution_count": 92,
   "metadata": {},
   "outputs": [],
   "source": [
    "# Исследуем метрику AUC-RC\n",
    "# Рисуем ROC для логистической регресси\n",
    "probabilities_tree=model_tree.predict_proba(valid_features)\n",
    "probabilities_one_valid_tree=probabilities_tree[:,1]\n",
    "fpr_tree,tpr_tree,thresholds=roc_curve(valid_target,probabilities_one_valid_tree)"
   ]
  },
  {
   "cell_type": "code",
   "execution_count": 93,
   "metadata": {},
   "outputs": [],
   "source": [
    "auc_roc_tree=roc_auc_score(valid_target,probabilities_one_valid_tree)"
   ]
  },
  {
   "cell_type": "code",
   "execution_count": 94,
   "metadata": {},
   "outputs": [
    {
     "data": {
      "text/plain": [
       "0.6842242882507126"
      ]
     },
     "execution_count": 94,
     "metadata": {},
     "output_type": "execute_result"
    }
   ],
   "source": [
    "auc_roc_tree"
   ]
  },
  {
   "cell_type": "code",
   "execution_count": 95,
   "metadata": {},
   "outputs": [],
   "source": [
    "probabilities_forest=model_forest.predict_proba(valid_features)\n",
    "probabilities_one_valid_forest=probabilities_forest[:,1]\n",
    "fpr_forest,tpr_forest,thresholds=roc_curve(valid_target,probabilities_one_valid_forest)"
   ]
  },
  {
   "cell_type": "code",
   "execution_count": 96,
   "metadata": {},
   "outputs": [],
   "source": [
    "auc_roc_forest=roc_auc_score(valid_target,probabilities_one_valid_forest)"
   ]
  },
  {
   "cell_type": "code",
   "execution_count": 34,
   "metadata": {},
   "outputs": [
    {
     "data": {
      "text/plain": [
       "0.8392561661625225"
      ]
     },
     "execution_count": 34,
     "metadata": {},
     "output_type": "execute_result"
    }
   ],
   "source": [
    "auc_roc_forest"
   ]
  },
  {
   "cell_type": "code",
   "execution_count": 35,
   "metadata": {},
   "outputs": [],
   "source": [
    "probabilities_reg=model_logistic.predict_proba(valid_features)\n",
    "probabilities_one_valid_reg=probabilities_reg[:,1]\n",
    "fpr_log,tpr_log,thresholds=roc_curve(valid_target,probabilities_one_valid_reg)"
   ]
  },
  {
   "cell_type": "code",
   "execution_count": 36,
   "metadata": {},
   "outputs": [],
   "source": [
    "auc_roc_reg=roc_auc_score(valid_target,probabilities_one_valid_reg)"
   ]
  },
  {
   "cell_type": "code",
   "execution_count": 37,
   "metadata": {},
   "outputs": [
    {
     "data": {
      "text/plain": [
       "0.770498109260728"
      ]
     },
     "execution_count": 37,
     "metadata": {},
     "output_type": "execute_result"
    }
   ],
   "source": [
    "auc_roc_reg"
   ]
  },
  {
   "cell_type": "code",
   "execution_count": 97,
   "metadata": {},
   "outputs": [
    {
     "data": {
      "text/plain": [
       "<Figure size 640x480 with 0 Axes>"
      ]
     },
     "metadata": {},
     "output_type": "display_data"
    },
    {
     "data": {
      "image/png": "[encoded data removed]",
      "text/plain": [
       "<Figure size 1000x700 with 1 Axes>"
      ]
     },
     "metadata": {},
     "output_type": "display_data"
    }
   ],
   "source": [
    "plt.figure()\n",
    "\n",
    "plt.figure(figsize=(10,7))\n",
    "plt.plot([0, 1], [0, 1], linestyle='--')\n",
    "plt.xlim([0.0, 1.0])\n",
    "plt.ylim([0.0, 1.0])\n",
    "plt.plot(fpr_log,tpr_log)\n",
    "plt.plot(fpr_tree,tpr_tree)\n",
    "plt.plot(fpr_forest,tpr_forest)\n",
    "plt.xlabel('False Positive Rate')\n",
    "plt.ylabel('True Positive Rate')\n",
    "plt.title('ROC-кривая')\n",
    "plt.legend(('Случайная модель','Случайный лес','Логистическая регрессия','Дерево решения'),\n",
    "           loc= 'upper left') \n",
    "plt.show()"
   ]
  },
  {
   "cell_type": "markdown",
   "metadata": {},
   "source": [
    "<div style=\"border:solid blue 2px; padding: 20px\">\n",
    "<font size=\"3\"><b> Комментарий студента 🎓 </b></font>\n",
    "Значение площади под кривой. На сколько наша модель отличается от случайной.\n",
    "Лучшее значение метрики auc roc=0.839 у модели Дерево решений\n",
    "\n",
    "</div>"
   ]
  },
  {
   "cell_type": "markdown",
   "metadata": {},
   "source": [
    "## Борьба с дисбалансом"
   ]
  },
  {
   "cell_type": "code",
   "execution_count": 98,
   "metadata": {},
   "outputs": [],
   "source": [
    "# Воспользуемся функцией Upsampling \n",
    "# и увеличим количество клиентов оттока(target==1)\n",
    "def upsampling (features,target,repeat):\n",
    "    #Разделяем выборку по значениям целевой функции\n",
    "    target_one=target[target==1]\n",
    "    target_null=target[target==0]\n",
    "    features_one=features[target==1]\n",
    "    features_null=features[target==0]\n",
    "    \n",
    "    #Увеличиваем и соединяем обратно\n",
    "    upsampling_features=pd.concat([features_null]+[features_one]*repeat)\n",
    "    upsampling_target=pd.concat([target_null]+[target_one]*repeat)\n",
    "    \n",
    "    # Перемешиваем\n",
    "    upsampling_features,upsampling_target=shuffle(upsampling_features,upsampling_target,random_state=1234)\n",
    "    \n",
    "    return upsampling_features,upsampling_target"
   ]
  },
  {
   "cell_type": "code",
   "execution_count": 99,
   "metadata": {},
   "outputs": [],
   "source": [
    "features_balance_up,target_balance_up=upsampling(train_features,train_target,4)"
   ]
  },
  {
   "cell_type": "code",
   "execution_count": 100,
   "metadata": {},
   "outputs": [],
   "source": [
    "# Воспользуемся функцией Downsampling \n",
    "# и увеличим количество клиентов оттока(target==1)\n",
    "def downsampling(features,target,fraction):\n",
    "    features_null=features[target==0]\n",
    "    features_one=features[target==1]\n",
    "    target_null=target[target==0]\n",
    "    target_one=target[target==1]\n",
    "    \n",
    "    downsampling_features=pd.concat([features_null.sample(frac=0.4,random_state=1234)]+[features_one])\n",
    "    downsampling_target=pd.concat([target_null.sample(frac=0.4,random_state=1234)]+[target_one])\n",
    "    \n",
    "    downsampling_features,downsampling_target=shuffle(downsampling_features,downsampling_target,random_state=1234)\n",
    "    return downsampling_features,downsampling_target"
   ]
  },
  {
   "cell_type": "code",
   "execution_count": 101,
   "metadata": {},
   "outputs": [],
   "source": [
    "#features_balance_up,target_balance_up=downsampling(features,target,0.4)"
   ]
  },
  {
   "cell_type": "markdown",
   "metadata": {},
   "source": [
    "<div style=\"border:solid blue 2px; padding: 20px\">\n",
    "<font size=\"3\"><b> Комментарий студента 🎓 </b></font>\n",
    "Вывод: т.к количество данных невелико, исключаем метод уменьшения выборки (Downsampling). Используем Upsampling.\n",
    "</div>\n"
   ]
  },
  {
   "cell_type": "code",
   "execution_count": 102,
   "metadata": {},
   "outputs": [
    {
     "name": "stdout",
     "output_type": "stream",
     "text": [
      "max_depth: 1 F1: 0.4750733137829912\n",
      "max_depth: 2 F1: 0.49761677788369874\n",
      "max_depth: 3 F1: 0.49761677788369874\n",
      "max_depth: 4 F1: 0.520112254443405\n",
      "max_depth: 5 F1: 0.5504761904761906\n",
      "max_depth: 6 F1: 0.5616161616161617\n",
      "max_depth: 7 F1: 0.5534079348931842\n",
      "max_depth: 8 F1: 0.5499999999999999\n",
      "max_depth: 9 F1: 0.5259042033235581\n",
      "max_depth: 10 F1: 0.5114427860696518\n",
      "max_depth: 11 F1: 0.4973985431841832\n",
      "max_depth: 12 F1: 0.4962566844919786\n",
      "max_depth: 13 F1: 0.4865470852017937\n",
      "max_depth: 14 F1: 0.49764150943396224\n",
      "max_depth: 15 F1: 0.4903846153846154\n",
      "max_depth: 16 F1: 0.49754901960784315\n",
      "max_depth: 17 F1: 0.4957472660996355\n",
      "max_depth: 18 F1: 0.4900497512437811\n",
      "max_depth: 19 F1: 0.4829329962073325\n",
      "CPU times: total: 1.81 s\n",
      "Wall time: 3.13 s\n"
     ]
    }
   ],
   "source": [
    "%%time \n",
    "# После балансирования данных \n",
    "# 1. Обучение с помощью модели Дерево решения\n",
    "# Циклом ищем лучший гиперпораметр max_depth\n",
    "for depth in range(1,20,1):\n",
    "    model_tree=DecisionTreeClassifier(class_weight='balanced',max_depth=depth,random_state=1234).fit(features_balance_up,target_balance_up)\n",
    "  \n",
    "    prediction=model_tree.predict(valid_features)\n",
    "    print('max_depth:',depth,'F1:',f1_score(valid_target,prediction))"
   ]
  },
  {
   "cell_type": "markdown",
   "metadata": {},
   "source": [
    "<div style=\"border:solid blue 2px; padding: 20px\">\n",
    "<font size=\"3\"><b> Комментарий студента 🎓 </b></font>\n",
    "Лучшее значение после балансирования данных max_depth=6, при котором F1=0,561\n",
    "\n",
    "</div>"
   ]
  },
  {
   "cell_type": "code",
   "execution_count": 103,
   "metadata": {},
   "outputs": [
    {
     "name": "stdout",
     "output_type": "stream",
     "text": [
      "max_depth: 1 F1: 0.4990512333965844\n",
      "max_depth: 2 F1: 0.527027027027027\n",
      "max_depth: 3 F1: 0.5463709677419355\n",
      "max_depth: 4 F1: 0.5452695829094608\n",
      "max_depth: 5 F1: 0.5507246376811595\n",
      "max_depth: 6 F1: 0.5744456177402323\n",
      "max_depth: 7 F1: 0.5738045738045738\n",
      "max_depth: 8 F1: 0.5781083953241233\n",
      "max_depth: 9 F1: 0.586433260393873\n",
      "max_depth: 10 F1: 0.5858585858585859\n",
      "max_depth: 11 F1: 0.5941520467836257\n",
      "max_depth: 12 F1: 0.5930372148859544\n",
      "max_depth: 13 F1: 0.5958485958485958\n",
      "max_depth: 14 F1: 0.5951468710089399\n",
      "max_depth: 15 F1: 0.608355091383812\n",
      "max_depth: 16 F1: 0.5916230366492147\n",
      "max_depth: 17 F1: 0.601063829787234\n",
      "max_depth: 18 F1: 0.5912806539509536\n",
      "max_depth: 19 F1: 0.5910931174089069\n",
      "CPU times: total: 24.3 s\n",
      "Wall time: 39.8 s\n"
     ]
    }
   ],
   "source": [
    "%%time\n",
    "# После балансирования данных\n",
    "# 2. Обучение с помощью модели Случайный лес\n",
    "# Циклом ищем лучший гиперпораметр max_depth\n",
    "for max_depth in range(1,20,1):\n",
    "    model_forest=RandomForestClassifier(class_weight='balanced',max_depth=max_depth,n_estimators=50,random_state=1234).fit(features_balance_up,target_balance_up)\n",
    "    prediction=model_forest.predict(valid_features)\n",
    "    print('max_depth:',max_depth,'F1:',f1_score(valid_target,prediction))"
   ]
  },
  {
   "cell_type": "markdown",
   "metadata": {},
   "source": [
    "<div style=\"border:solid blue 2px; padding: 20px\">\n",
    "<font size=\"3\"><b> Комментарий студента 🎓 </b></font>\n",
    "Лучшее значение max_depth=12, при котором F1=0,594\n",
    "\n",
    "</div>"
   ]
  },
  {
   "cell_type": "code",
   "execution_count": 104,
   "metadata": {},
   "outputs": [
    {
     "name": "stdout",
     "output_type": "stream",
     "text": [
      "estim 1 F1: 0.49789915966386555\n",
      "estim 2 F1: 0.4970691676436108\n",
      "estim 3 F1: 0.5634118967452302\n",
      "estim 4 F1: 0.5504151838671413\n",
      "estim 5 F1: 0.5700934579439252\n",
      "estim 6 F1: 0.5687645687645687\n",
      "estim 7 F1: 0.5674740484429066\n",
      "estim 8 F1: 0.5641618497109827\n",
      "estim 9 F1: 0.5701042873696407\n",
      "estim 10 F1: 0.5799522673031027\n",
      "estim 11 F1: 0.5738095238095237\n",
      "estim 12 F1: 0.569047619047619\n",
      "estim 13 F1: 0.5683962264150944\n",
      "estim 14 F1: 0.5707434052757794\n",
      "estim 15 F1: 0.5727923627684964\n",
      "estim 16 F1: 0.5804111245465539\n",
      "estim 17 F1: 0.5790754257907543\n",
      "estim 18 F1: 0.5811138014527845\n",
      "estim 19 F1: 0.5829268292682926\n",
      "estim 20 F1: 0.5787545787545787\n",
      "estim 21 F1: 0.5836385836385836\n",
      "estim 22 F1: 0.5811965811965812\n",
      "estim 23 F1: 0.5878048780487803\n",
      "estim 24 F1: 0.5882352941176471\n",
      "estim 25 F1: 0.5804878048780487\n",
      "estim 26 F1: 0.584652862362972\n",
      "estim 27 F1: 0.5818181818181818\n",
      "estim 28 F1: 0.5779927448609432\n",
      "estim 29 F1: 0.5849514563106796\n",
      "estim 30 F1: 0.5797101449275364\n",
      "estim 31 F1: 0.5793939393939395\n",
      "estim 32 F1: 0.5842424242424242\n",
      "estim 33 F1: 0.5888077858880779\n",
      "estim 34 F1: 0.585956416464891\n",
      "estim 35 F1: 0.5890909090909091\n",
      "estim 36 F1: 0.5888077858880779\n",
      "estim 37 F1: 0.5876662636033857\n",
      "estim 38 F1: 0.587378640776699\n",
      "estim 39 F1: 0.5910735826296744\n",
      "estim 40 F1: 0.5973397823458282\n",
      "estim 41 F1: 0.5970873786407767\n",
      "estim 42 F1: 0.6017052375152253\n",
      "estim 43 F1: 0.5978128797083839\n",
      "estim 44 F1: 0.5956416464891041\n",
      "estim 45 F1: 0.5913461538461537\n",
      "estim 46 F1: 0.5951807228915663\n",
      "estim 47 F1: 0.597590361445783\n",
      "estim 48 F1: 0.597590361445783\n",
      "estim 49 F1: 0.5951807228915663\n",
      "estim 50 F1: 0.5930372148859544\n",
      "CPU times: total: 39.7 s\n",
      "Wall time: 1min 3s\n"
     ]
    }
   ],
   "source": [
    "%%time\n",
    "# Циклом подбираем гиперпораметр n_estimators (количество деревьев)\n",
    "for estim in range(1,51,1):\n",
    "    model_forest=RandomForestClassifier(class_weight='balanced',max_depth=12,n_estimators=estim,random_state=1234).fit(features_balance_up,target_balance_up)\n",
    "    prediction=model_forest.predict(valid_features)\n",
    "    print('estim',estim,'F1:',f1_score(valid_target,prediction))"
   ]
  },
  {
   "cell_type": "code",
   "execution_count": 105,
   "metadata": {},
   "outputs": [],
   "source": [
    " model_forest=RandomForestClassifier(class_weight='balanced',max_depth=11,n_estimators=50,random_state=1234).fit(features_balance_up,target_balance_up)"
   ]
  },
  {
   "cell_type": "markdown",
   "metadata": {},
   "source": [
    "<div style=\"border:solid blue 2px; padding: 20px\">\n",
    "<font size=\"3\"><b> Комментарий студента 🎓 </b></font>\n",
    "Лучшее значение max_depth=12 и n_estimators=24, при котором F1=0,601. Наблюдаем положительную динамику\n",
    "\n",
    "</div>"
   ]
  },
  {
   "cell_type": "code",
   "execution_count": 106,
   "metadata": {},
   "outputs": [
    {
     "name": "stdout",
     "output_type": "stream",
     "text": [
      "F1: 0.47864768683274017\n",
      "CPU times: total: 62.5 ms\n",
      "Wall time: 203 ms\n"
     ]
    }
   ],
   "source": [
    "%%time\n",
    "# После балансирования данных\n",
    "# 3. Обучение с помощью модели Логистической регрессии\n",
    "model_logistic=LogisticRegression(class_weight='balanced',solver='liblinear').fit(features_balance_up,target_balance_up)\n",
    "prediction=model_logistic.predict(valid_features)\n",
    "print('F1:',f1_score(valid_target,prediction))"
   ]
  },
  {
   "cell_type": "markdown",
   "metadata": {},
   "source": [
    "<div style=\"border:solid blue 2px; padding: 20px\">\n",
    "<font size=\"3\"><b> Комментарий студента 🎓 </b></font>\n",
    "Показатель F1 вырос до 0.478\n",
    "\n",
    "</div>\n"
   ]
  },
  {
   "cell_type": "code",
   "execution_count": 107,
   "metadata": {},
   "outputs": [],
   "source": [
    "#Рисуем ROC\n",
    "probabilities_tree=model_tree.predict_proba(valid_features)\n",
    "probabilities_one_valid_tree=probabilities_tree[:,1]\n",
    "fpr_tree,tpr_tree,thresholds=roc_curve(valid_target,probabilities_one_valid_tree)"
   ]
  },
  {
   "cell_type": "code",
   "execution_count": 108,
   "metadata": {},
   "outputs": [],
   "source": [
    "auc_roc_tree=roc_auc_score(valid_target,probabilities_one_valid_tree)"
   ]
  },
  {
   "cell_type": "code",
   "execution_count": 109,
   "metadata": {},
   "outputs": [
    {
     "data": {
      "text/plain": [
       "0.679062307766893"
      ]
     },
     "execution_count": 109,
     "metadata": {},
     "output_type": "execute_result"
    }
   ],
   "source": [
    "auc_roc_tree"
   ]
  },
  {
   "cell_type": "code",
   "execution_count": 110,
   "metadata": {},
   "outputs": [],
   "source": [
    "probabilities_forest=model_forest.predict_proba(valid_features)\n",
    "probabilities_one_valid_forest=probabilities_forest[:,1]\n",
    "fpr_forest,tpr_forest,thresholds=roc_curve(valid_target,probabilities_one_valid_forest)"
   ]
  },
  {
   "cell_type": "code",
   "execution_count": 111,
   "metadata": {},
   "outputs": [],
   "source": [
    "auc_roc_forest=roc_auc_score(valid_target,probabilities_one_valid_forest)"
   ]
  },
  {
   "cell_type": "code",
   "execution_count": 112,
   "metadata": {},
   "outputs": [
    {
     "data": {
      "text/plain": [
       "0.8533075618444206"
      ]
     },
     "execution_count": 112,
     "metadata": {},
     "output_type": "execute_result"
    }
   ],
   "source": [
    "auc_roc_forest"
   ]
  },
  {
   "cell_type": "code",
   "execution_count": 113,
   "metadata": {},
   "outputs": [],
   "source": [
    "probabilities_reg=model_logistic.predict_proba(valid_features)\n",
    "probabilities_one_valid_reg=probabilities_reg[:,1]\n",
    "fpr_log,tpr_log,thresholds=roc_curve(valid_target,probabilities_one_valid_reg)"
   ]
  },
  {
   "cell_type": "code",
   "execution_count": 114,
   "metadata": {},
   "outputs": [],
   "source": [
    "auc_roc_reg=roc_auc_score(valid_target,probabilities_one_valid_reg)"
   ]
  },
  {
   "cell_type": "code",
   "execution_count": 115,
   "metadata": {},
   "outputs": [
    {
     "data": {
      "text/plain": [
       "0.7729793568466379"
      ]
     },
     "execution_count": 115,
     "metadata": {},
     "output_type": "execute_result"
    }
   ],
   "source": [
    "auc_roc_reg"
   ]
  },
  {
   "cell_type": "code",
   "execution_count": 116,
   "metadata": {},
   "outputs": [
    {
     "data": {
      "text/plain": [
       "<Figure size 640x480 with 0 Axes>"
      ]
     },
     "metadata": {},
     "output_type": "display_data"
    },
    {
     "data": {
      "image/png": "[encoded data removed]",
      "text/plain": [
       "<Figure size 1000x700 with 1 Axes>"
      ]
     },
     "metadata": {},
     "output_type": "display_data"
    }
   ],
   "source": [
    "plt.figure()\n",
    "\n",
    "plt.figure(figsize=(10,7))\n",
    "plt.plot([0, 1], [0, 1], linestyle='--')\n",
    "plt.xlim([0.0, 1.0])\n",
    "plt.ylim([0.0, 1.0])\n",
    "plt.plot(fpr_log,tpr_log)\n",
    "plt.plot(fpr_tree,tpr_tree)\n",
    "plt.plot(fpr_forest,tpr_forest)\n",
    "plt.xlabel('False Positive Rate')\n",
    "plt.ylabel('True Positive Rate')\n",
    "plt.title('ROC-кривая')\n",
    "plt.legend(('Случайная модель','Случайный лес','Логистическая регрессия','Дерево решения'),\n",
    "           loc= 'upper left') \n",
    "plt.show()"
   ]
  },
  {
   "cell_type": "markdown",
   "metadata": {},
   "source": [
    "<div style=\"border:solid blue 2px; padding: 20px\">\n",
    "<font size=\"3\"><b> Комментарий студента 🎓 </b></font>\n",
    "Значение площади под кривой. На сколько наша модель отличается от случайной.\n",
    "Лучшее значение метрики auc roc=0.852 у модели Дерево решения\n",
    "\n",
    "</div>"
   ]
  },
  {
   "cell_type": "code",
   "execution_count": 117,
   "metadata": {},
   "outputs": [],
   "source": [
    "rezult1={'Дерево Решения':np.array([0.555,0.561]),'Случайный лес':np.array([0.589,0.601]),'Логистическая регрессия':np.array([0.300,0.479])}\n",
    "rezult_df=pd.DataFrame(rezult1,index=['F1 без учета дисбаланса','F1 с учетом дисбаланса'])"
   ]
  },
  {
   "cell_type": "code",
   "execution_count": 118,
   "metadata": {},
   "outputs": [
    {
     "data": {
      "text/html": [
       "<div>\n",
       "<style scoped>\n",
       "    .dataframe tbody tr th:only-of-type {\n",
       "        vertical-align: middle;\n",
       "    }\n",
       "\n",
       "    .dataframe tbody tr th {\n",
       "        vertical-align: top;\n",
       "    }\n",
       "\n",
       "    .dataframe thead th {\n",
       "        text-align: right;\n",
       "    }\n",
       "</style>\n",
       "<table border=\"1\" class=\"dataframe\">\n",
       "  <thead>\n",
       "    <tr style=\"text-align: right;\">\n",
       "      <th></th>\n",
       "      <th>Дерево Решения</th>\n",
       "      <th>Случайный лес</th>\n",
       "      <th>Логистическая регрессия</th>\n",
       "    </tr>\n",
       "  </thead>\n",
       "  <tbody>\n",
       "    <tr>\n",
       "      <th>F1 без учета дисбаланса</th>\n",
       "      <td>0.555</td>\n",
       "      <td>0.589</td>\n",
       "      <td>0.300</td>\n",
       "    </tr>\n",
       "    <tr>\n",
       "      <th>F1 с учетом дисбаланса</th>\n",
       "      <td>0.561</td>\n",
       "      <td>0.601</td>\n",
       "      <td>0.479</td>\n",
       "    </tr>\n",
       "  </tbody>\n",
       "</table>\n",
       "</div>"
      ],
      "text/plain": [
       "                         Дерево Решения  Случайный лес  \\\n",
       "F1 без учета дисбаланса           0.555          0.589   \n",
       "F1 с учетом дисбаланса            0.561          0.601   \n",
       "\n",
       "                         Логистическая регрессия  \n",
       "F1 без учета дисбаланса                    0.300  \n",
       "F1 с учетом дисбаланса                     0.479  "
      ]
     },
     "execution_count": 118,
     "metadata": {},
     "output_type": "execute_result"
    }
   ],
   "source": [
    "rezult_df"
   ]
  },
  {
   "cell_type": "markdown",
   "metadata": {},
   "source": [
    "<div style=\"border:solid blue 2px; padding: 20px\">\n",
    "<font size=\"3\"><b> Комментарий студента 🎓 </b></font>\n",
    "Выводы:рассматривая данные с учетом дисбаланса + переведенные категориальные + стандартизированные данные и без учета дисбаланса тремя моделями можно сделать вывод, что самая лучшая модель - Случайный лес. При лучшем значении max_depth=12,n_estimators=24, мы имеем F1 = 0,601 на выборке. Хуже всего себя показала модель Логистическая регрессия.\n",
    "\n",
    "</div>"
   ]
  },
  {
   "cell_type": "markdown",
   "metadata": {},
   "source": [
    "## Тестирование модели"
   ]
  },
  {
   "cell_type": "code",
   "execution_count": 119,
   "metadata": {},
   "outputs": [
    {
     "name": "stdout",
     "output_type": "stream",
     "text": [
      "F1: 0.6349557522123894\n"
     ]
    }
   ],
   "source": [
    "# протестируем модель\n",
    "prediction=model_forest.predict(test_features)\n",
    "print('F1:',f1_score(test_target, prediction))"
   ]
  },
  {
   "cell_type": "code",
   "execution_count": 120,
   "metadata": {},
   "outputs": [
    {
     "name": "stdout",
     "output_type": "stream",
     "text": [
      "ROC-AUC: 0.8610383655093043\n"
     ]
    }
   ],
   "source": [
    "probabilities_forest=model_forest.predict_proba(test_features)\n",
    "probabilities_one_test_forest=probabilities_forest[:,1]\n",
    "fpr_forest,tpr_forest,thresholds=roc_curve(test_target,probabilities_one_test_forest)\n",
    "print('ROC-AUC:', roc_auc_score(test_target,probabilities_one_test_forest))"
   ]
  },
  {
   "cell_type": "code",
   "execution_count": 121,
   "metadata": {},
   "outputs": [
    {
     "data": {
      "text/plain": [
       "0.6016771488469602"
      ]
     },
     "execution_count": 121,
     "metadata": {},
     "output_type": "execute_result"
    }
   ],
   "source": [
    "# Найдем долю вероятности, что клиент из банка не уйдет\n",
    "precision_score(test_target, prediction)"
   ]
  },
  {
   "cell_type": "code",
   "execution_count": 122,
   "metadata": {},
   "outputs": [
    {
     "data": {
      "text/plain": [
       "0.6721311475409836"
      ]
     },
     "execution_count": 122,
     "metadata": {},
     "output_type": "execute_result"
    }
   ],
   "source": [
    "# Посчитаем какую долю клиентов, которые не уйдут нашла модель\n",
    "recall_score(test_target, prediction)"
   ]
  },
  {
   "cell_type": "markdown",
   "metadata": {},
   "source": [
    "## Общий вывод:\n",
    "    "
   ]
  },
  {
   "cell_type": "markdown",
   "metadata": {},
   "source": [
    "<div style=\"border:solid blue 2px; padding: 20px\">\n",
    "<font size=\"3\"><b> Комментарий студента 🎓 </b></font>\n",
    "Рассматривая данные с учетом дисбаланса + переведенные категориальные + стандартизированные данные и без учета дисбаланса тремя моделями можно сделать вывод, что самая лучшая модель - Случайный лес. При лучшем значении max_depth=12,n_estimators=24, мы имеем F1 = 0,601 выборке. Хуже всего себя показала модель Логистическая регрессия.\n",
    "    \n",
    "Тестовая модель показала F1 = 0.639, что выше полученных данных на лучшей предыдущей выборке (0.6601).\n",
    "И выше заданной в условии метрики F1 = 0.59.\n",
    "\n",
    "Протестированная модель выделила долю верного прогноза по оттоку клиентов = 67% из вариантов, признанных положительными = 61%.\n",
    "\n",
    "Значит банку в целом, и отделу маркетинга, в частном, нужно пересмотреть принципы организации работы, собрать обратную связь о причинах расторжения договоров. Сделать выводы.\n",
    "\n",
    "</div>"
   ]
  },
  {
   "cell_type": "markdown",
   "metadata": {},
   "source": [
    "## Чек-лист готовности проекта"
   ]
  },
  {
   "cell_type": "markdown",
   "metadata": {},
   "source": [
    "Поставьте 'x' в выполненных пунктах. Далее нажмите Shift+Enter."
   ]
  },
  {
   "cell_type": "markdown",
   "metadata": {},
   "source": [
    "- [x]  Jupyter Notebook открыт\n",
    "- [x]  Весь код выполняется без ошибок\n",
    "- [x]  Ячейки с кодом расположены в порядке исполнения\n",
    "- [x]  Выполнен шаг 1: данные подготовлены\n",
    "- [x]  Выполнен шаг 2: задача исследована\n",
    "    - [x]  Исследован баланс классов\n",
    "    - [x]  Изучены модели без учёта дисбаланса\n",
    "    - [x]  Написаны выводы по результатам исследования\n",
    "- [x]  Выполнен шаг 3: учтён дисбаланс\n",
    "    - [x]  Применено несколько способов борьбы с дисбалансом\n",
    "    - [x]  Написаны выводы по результатам исследования\n",
    "- [x]  Выполнен шаг 4: проведено тестирование\n",
    "- [x]  Удалось достичь *F1*-меры не менее 0.59\n",
    "- [x]  Исследована метрика *AUC-ROC*"
   ]
  },
  {
   "cell_type": "code",
   "execution_count": null,
   "metadata": {},
   "outputs": [],
   "source": []
  },
  {
   "cell_type": "code",
   "execution_count": null,
   "metadata": {},
   "outputs": [],
   "source": []
  },
  {
   "cell_type": "code",
   "execution_count": null,
   "metadata": {},
   "outputs": [],
   "source": []
  }
 ],
 "metadata": {
  "ExecuteTimeLog": [
   {
    "duration": 1528,
    "start_time": "2023-02-09T09:26:21.239Z"
   },
   {
    "duration": 151,
    "start_time": "2023-02-09T09:26:22.769Z"
   },
   {
    "duration": 4,
    "start_time": "2023-02-09T09:26:48.836Z"
   },
   {
    "duration": 4,
    "start_time": "2023-02-09T09:26:57.480Z"
   },
   {
    "duration": 96,
    "start_time": "2023-02-09T09:26:58.718Z"
   },
   {
    "duration": 16,
    "start_time": "2023-02-09T09:27:00.210Z"
   },
   {
    "duration": 6,
    "start_time": "2023-02-09T09:36:29.819Z"
   },
   {
    "duration": 17,
    "start_time": "2023-02-09T09:37:01.864Z"
   },
   {
    "duration": 13,
    "start_time": "2023-02-09T09:37:02.494Z"
   },
   {
    "duration": 5,
    "start_time": "2023-02-09T09:37:08.337Z"
   },
   {
    "duration": 49,
    "start_time": "2023-02-09T09:37:08.828Z"
   },
   {
    "duration": 16,
    "start_time": "2023-02-09T09:37:09.198Z"
   },
   {
    "duration": 4,
    "start_time": "2023-02-09T09:37:10.625Z"
   },
   {
    "duration": 7,
    "start_time": "2023-02-09T09:37:11.892Z"
   },
   {
    "duration": 14,
    "start_time": "2023-02-09T09:37:12.625Z"
   },
   {
    "duration": 15,
    "start_time": "2023-02-09T09:37:46.970Z"
   },
   {
    "duration": 14,
    "start_time": "2023-02-09T09:38:21.178Z"
   },
   {
    "duration": 5,
    "start_time": "2023-02-09T09:38:21.319Z"
   },
   {
    "duration": 12,
    "start_time": "2023-02-09T09:38:21.532Z"
   },
   {
    "duration": 11,
    "start_time": "2023-02-09T09:38:21.769Z"
   },
   {
    "duration": 15,
    "start_time": "2023-02-09T09:39:37.570Z"
   },
   {
    "duration": 4,
    "start_time": "2023-02-09T09:39:37.768Z"
   },
   {
    "duration": 14,
    "start_time": "2023-02-09T09:39:38.115Z"
   },
   {
    "duration": 12,
    "start_time": "2023-02-09T09:39:38.322Z"
   },
   {
    "duration": 47,
    "start_time": "2023-02-09T09:46:57.433Z"
   },
   {
    "duration": 7,
    "start_time": "2023-02-09T09:47:01.213Z"
   },
   {
    "duration": 4,
    "start_time": "2023-02-09T09:47:01.565Z"
   },
   {
    "duration": 46,
    "start_time": "2023-02-09T09:47:02.025Z"
   },
   {
    "duration": 69,
    "start_time": "2023-02-09T09:47:13.172Z"
   },
   {
    "duration": 5,
    "start_time": "2023-02-09T09:52:24.222Z"
   },
   {
    "duration": 17,
    "start_time": "2023-02-09T09:53:13.215Z"
   },
   {
    "duration": 181,
    "start_time": "2023-02-09T09:53:58.000Z"
   },
   {
    "duration": 990,
    "start_time": "2023-02-09T09:54:52.527Z"
   },
   {
    "duration": 1045,
    "start_time": "2023-02-09T09:55:07.478Z"
   },
   {
    "duration": 1174,
    "start_time": "2023-02-09T09:55:33.577Z"
   },
   {
    "duration": 47,
    "start_time": "2023-02-09T09:58:28.295Z"
   },
   {
    "duration": 187,
    "start_time": "2023-02-09T09:59:36.292Z"
   },
   {
    "duration": 118,
    "start_time": "2023-02-09T10:03:44.592Z"
   },
   {
    "duration": 20,
    "start_time": "2023-02-09T10:05:44.269Z"
   },
   {
    "duration": 50,
    "start_time": "2023-02-09T10:06:49.705Z"
   },
   {
    "duration": 48,
    "start_time": "2023-02-09T10:06:52.903Z"
   },
   {
    "duration": 15,
    "start_time": "2023-02-09T10:10:47.858Z"
   },
   {
    "duration": 9,
    "start_time": "2023-02-09T10:10:49.546Z"
   },
   {
    "duration": 3,
    "start_time": "2023-02-09T10:10:50.458Z"
   },
   {
    "duration": 3,
    "start_time": "2023-02-09T10:12:38.873Z"
   },
   {
    "duration": 4,
    "start_time": "2023-02-09T10:12:39.352Z"
   },
   {
    "duration": 9,
    "start_time": "2023-02-09T10:12:39.527Z"
   },
   {
    "duration": 50,
    "start_time": "2023-02-09T10:12:39.759Z"
   },
   {
    "duration": 19,
    "start_time": "2023-02-09T10:15:13.619Z"
   },
   {
    "duration": 32,
    "start_time": "2023-02-09T10:19:08.010Z"
   },
   {
    "duration": 180,
    "start_time": "2023-02-09T10:19:14.611Z"
   },
   {
    "duration": 113,
    "start_time": "2023-02-09T10:19:17.412Z"
   },
   {
    "duration": 16,
    "start_time": "2023-02-09T10:19:19.228Z"
   },
   {
    "duration": 9,
    "start_time": "2023-02-09T10:19:20.714Z"
   },
   {
    "duration": 4,
    "start_time": "2023-02-09T10:19:21.510Z"
   },
   {
    "duration": 5,
    "start_time": "2023-02-09T10:19:22.097Z"
   },
   {
    "duration": 7,
    "start_time": "2023-02-09T10:19:22.666Z"
   },
   {
    "duration": 29,
    "start_time": "2023-02-09T10:19:23.319Z"
   },
   {
    "duration": 25,
    "start_time": "2023-02-09T10:23:53.262Z"
   },
   {
    "duration": 18,
    "start_time": "2023-02-09T10:24:16.906Z"
   },
   {
    "duration": 3,
    "start_time": "2023-02-09T10:24:25.827Z"
   },
   {
    "duration": 3,
    "start_time": "2023-02-09T10:24:27.009Z"
   },
   {
    "duration": 52,
    "start_time": "2023-02-09T10:24:27.709Z"
   },
   {
    "duration": 24,
    "start_time": "2023-02-09T10:24:27.891Z"
   },
   {
    "duration": 12,
    "start_time": "2023-02-09T10:24:28.290Z"
   },
   {
    "duration": 5,
    "start_time": "2023-02-09T10:24:28.524Z"
   },
   {
    "duration": 11,
    "start_time": "2023-02-09T10:24:28.663Z"
   },
   {
    "duration": 11,
    "start_time": "2023-02-09T10:24:28.731Z"
   },
   {
    "duration": 153,
    "start_time": "2023-02-09T10:24:29.065Z"
   },
   {
    "duration": 894,
    "start_time": "2023-02-09T10:24:29.376Z"
   },
   {
    "duration": 276,
    "start_time": "2023-02-09T10:24:30.272Z"
   },
   {
    "duration": 113,
    "start_time": "2023-02-09T10:24:30.550Z"
   },
   {
    "duration": 21,
    "start_time": "2023-02-09T10:24:32.763Z"
   },
   {
    "duration": 12,
    "start_time": "2023-02-09T10:24:34.119Z"
   },
   {
    "duration": 3,
    "start_time": "2023-02-09T10:24:34.833Z"
   },
   {
    "duration": 4,
    "start_time": "2023-02-09T10:24:35.734Z"
   },
   {
    "duration": 7,
    "start_time": "2023-02-09T10:24:36.419Z"
   },
   {
    "duration": 26,
    "start_time": "2023-02-09T10:24:37.530Z"
   },
   {
    "duration": 3,
    "start_time": "2023-02-09T10:24:38.466Z"
   },
   {
    "duration": 3,
    "start_time": "2023-02-09T10:24:39.330Z"
   },
   {
    "duration": 2,
    "start_time": "2023-02-09T10:24:40.264Z"
   },
   {
    "duration": 139,
    "start_time": "2023-02-09T10:24:42.675Z"
   },
   {
    "duration": 289,
    "start_time": "2023-02-09T10:25:08.165Z"
   },
   {
    "duration": 146,
    "start_time": "2023-02-09T10:25:49.564Z"
   },
   {
    "duration": 295,
    "start_time": "2023-02-09T10:26:30.475Z"
   },
   {
    "duration": 7327,
    "start_time": "2023-02-09T10:27:57.516Z"
   },
   {
    "duration": 4,
    "start_time": "2023-02-09T10:34:58.411Z"
   },
   {
    "duration": 6,
    "start_time": "2023-02-09T10:34:59.613Z"
   },
   {
    "duration": 27,
    "start_time": "2023-02-09T10:35:00.806Z"
   },
   {
    "duration": 3,
    "start_time": "2023-02-09T10:35:01.706Z"
   },
   {
    "duration": 3,
    "start_time": "2023-02-09T10:35:02.585Z"
   },
   {
    "duration": 2,
    "start_time": "2023-02-09T10:35:03.759Z"
   },
   {
    "duration": 29,
    "start_time": "2023-02-09T10:36:15.475Z"
   },
   {
    "duration": 3,
    "start_time": "2023-02-09T10:36:17.313Z"
   },
   {
    "duration": 156,
    "start_time": "2023-02-09T10:36:52.157Z"
   },
   {
    "duration": 278,
    "start_time": "2023-02-09T10:37:10.558Z"
   },
   {
    "duration": 7287,
    "start_time": "2023-02-09T10:37:56.230Z"
   },
   {
    "duration": 4287,
    "start_time": "2023-02-09T10:38:41.522Z"
   },
   {
    "duration": 5643,
    "start_time": "2023-02-09T10:40:23.212Z"
   },
   {
    "duration": 4970,
    "start_time": "2023-02-09T10:41:06.165Z"
   },
   {
    "duration": 4396,
    "start_time": "2023-02-09T10:41:47.571Z"
   },
   {
    "duration": 581,
    "start_time": "2023-02-09T10:43:18.517Z"
   },
   {
    "duration": 147,
    "start_time": "2023-02-09T10:45:10.273Z"
   },
   {
    "duration": 8056,
    "start_time": "2023-02-09T10:45:19.854Z"
   },
   {
    "duration": 4293,
    "start_time": "2023-02-09T10:45:53.970Z"
   },
   {
    "duration": 521,
    "start_time": "2023-02-09T10:46:14.583Z"
   },
   {
    "duration": 4,
    "start_time": "2023-02-09T10:52:43.827Z"
   },
   {
    "duration": 522,
    "start_time": "2023-02-09T10:52:48.678Z"
   },
   {
    "duration": 7,
    "start_time": "2023-02-09T10:52:54.316Z"
   },
   {
    "duration": 10,
    "start_time": "2023-02-09T10:53:06.354Z"
   },
   {
    "duration": 7,
    "start_time": "2023-02-09T10:53:39.404Z"
   },
   {
    "duration": 7,
    "start_time": "2023-02-09T10:56:53.813Z"
   },
   {
    "duration": 356,
    "start_time": "2023-02-09T10:58:36.474Z"
   },
   {
    "duration": 6,
    "start_time": "2023-02-09T10:58:38.121Z"
   },
   {
    "duration": 7,
    "start_time": "2023-02-09T10:58:38.914Z"
   },
   {
    "duration": 6,
    "start_time": "2023-02-09T10:58:39.720Z"
   },
   {
    "duration": 44,
    "start_time": "2023-02-09T10:58:40.570Z"
   },
   {
    "duration": 6,
    "start_time": "2023-02-09T10:58:42.092Z"
   },
   {
    "duration": 5,
    "start_time": "2023-02-09T10:58:42.257Z"
   },
   {
    "duration": 82,
    "start_time": "2023-02-09T10:58:42.414Z"
   },
   {
    "duration": 6,
    "start_time": "2023-02-09T10:58:42.659Z"
   },
   {
    "duration": 5,
    "start_time": "2023-02-09T10:58:43.980Z"
   },
   {
    "duration": 189,
    "start_time": "2023-02-09T10:58:44.988Z"
   },
   {
    "duration": 5,
    "start_time": "2023-02-09T11:01:58.932Z"
   },
   {
    "duration": 5,
    "start_time": "2023-02-09T11:02:31.483Z"
   },
   {
    "duration": 5,
    "start_time": "2023-02-09T11:02:58.291Z"
   },
   {
    "duration": 3,
    "start_time": "2023-02-09T11:03:19.325Z"
   },
   {
    "duration": 3,
    "start_time": "2023-02-09T11:03:19.515Z"
   },
   {
    "duration": 51,
    "start_time": "2023-02-09T11:03:19.706Z"
   },
   {
    "duration": 12,
    "start_time": "2023-02-09T11:03:19.853Z"
   },
   {
    "duration": 4,
    "start_time": "2023-02-09T11:03:20.209Z"
   },
   {
    "duration": 4,
    "start_time": "2023-02-09T11:03:20.358Z"
   },
   {
    "duration": 11,
    "start_time": "2023-02-09T11:03:20.554Z"
   },
   {
    "duration": 13,
    "start_time": "2023-02-09T11:03:20.710Z"
   },
   {
    "duration": 162,
    "start_time": "2023-02-09T11:03:21.055Z"
   },
   {
    "duration": 1046,
    "start_time": "2023-02-09T11:03:21.490Z"
   },
   {
    "duration": 172,
    "start_time": "2023-02-09T11:03:22.538Z"
   },
   {
    "duration": 120,
    "start_time": "2023-02-09T11:03:22.712Z"
   },
   {
    "duration": 15,
    "start_time": "2023-02-09T11:03:22.834Z"
   },
   {
    "duration": 10,
    "start_time": "2023-02-09T11:03:22.850Z"
   },
   {
    "duration": 3,
    "start_time": "2023-02-09T11:03:22.922Z"
   },
   {
    "duration": 5,
    "start_time": "2023-02-09T11:03:23.106Z"
   },
   {
    "duration": 6,
    "start_time": "2023-02-09T11:03:23.343Z"
   },
   {
    "duration": 45,
    "start_time": "2023-02-09T11:03:23.489Z"
   },
   {
    "duration": 2,
    "start_time": "2023-02-09T11:03:23.627Z"
   },
   {
    "duration": 2,
    "start_time": "2023-02-09T11:03:23.784Z"
   },
   {
    "duration": 3,
    "start_time": "2023-02-09T11:03:24.024Z"
   },
   {
    "duration": 163,
    "start_time": "2023-02-09T11:03:24.452Z"
   },
   {
    "duration": 7536,
    "start_time": "2023-02-09T11:03:24.752Z"
   },
   {
    "duration": 4382,
    "start_time": "2023-02-09T11:03:32.293Z"
   },
   {
    "duration": 530,
    "start_time": "2023-02-09T11:03:36.677Z"
   },
   {
    "duration": 9,
    "start_time": "2023-02-09T11:03:37.210Z"
   },
   {
    "duration": 97,
    "start_time": "2023-02-09T11:03:37.221Z"
   },
   {
    "duration": 7,
    "start_time": "2023-02-09T11:03:37.320Z"
   },
   {
    "duration": 32,
    "start_time": "2023-02-09T11:03:37.328Z"
   },
   {
    "duration": 5,
    "start_time": "2023-02-09T11:03:37.362Z"
   },
   {
    "duration": 26,
    "start_time": "2023-02-09T11:03:37.369Z"
   },
   {
    "duration": 21,
    "start_time": "2023-02-09T11:03:37.398Z"
   },
   {
    "duration": 182,
    "start_time": "2023-02-09T11:03:37.421Z"
   },
   {
    "duration": 13,
    "start_time": "2023-02-09T11:03:37.606Z"
   },
   {
    "duration": 195,
    "start_time": "2023-02-09T11:03:37.621Z"
   },
   {
    "duration": 5,
    "start_time": "2023-02-09T11:03:37.818Z"
   },
   {
    "duration": 12,
    "start_time": "2023-02-09T11:03:37.825Z"
   },
   {
    "duration": 5,
    "start_time": "2023-02-09T11:03:37.839Z"
   },
   {
    "duration": 12,
    "start_time": "2023-02-09T11:03:37.846Z"
   },
   {
    "duration": 5,
    "start_time": "2023-02-09T11:03:37.860Z"
   },
   {
    "duration": 4,
    "start_time": "2023-02-09T11:03:48.614Z"
   },
   {
    "duration": 6,
    "start_time": "2023-02-09T11:04:18.445Z"
   },
   {
    "duration": 7,
    "start_time": "2023-02-09T11:08:15.788Z"
   },
   {
    "duration": 4,
    "start_time": "2023-02-09T11:08:15.945Z"
   },
   {
    "duration": 57,
    "start_time": "2023-02-09T11:08:16.149Z"
   },
   {
    "duration": 13,
    "start_time": "2023-02-09T11:08:16.317Z"
   },
   {
    "duration": 5,
    "start_time": "2023-02-09T11:08:16.660Z"
   },
   {
    "duration": 7,
    "start_time": "2023-02-09T11:08:16.797Z"
   },
   {
    "duration": 12,
    "start_time": "2023-02-09T11:08:16.949Z"
   },
   {
    "duration": 10,
    "start_time": "2023-02-09T11:08:17.169Z"
   },
   {
    "duration": 143,
    "start_time": "2023-02-09T11:08:17.466Z"
   },
   {
    "duration": 1033,
    "start_time": "2023-02-09T11:08:17.765Z"
   },
   {
    "duration": 165,
    "start_time": "2023-02-09T11:08:18.799Z"
   },
   {
    "duration": 127,
    "start_time": "2023-02-09T11:08:18.966Z"
   },
   {
    "duration": 22,
    "start_time": "2023-02-09T11:08:19.096Z"
   },
   {
    "duration": 9,
    "start_time": "2023-02-09T11:08:19.328Z"
   },
   {
    "duration": 9,
    "start_time": "2023-02-09T11:08:19.598Z"
   },
   {
    "duration": 4,
    "start_time": "2023-02-09T11:08:19.776Z"
   },
   {
    "duration": 6,
    "start_time": "2023-02-09T11:08:20.017Z"
   },
   {
    "duration": 28,
    "start_time": "2023-02-09T11:08:20.845Z"
   },
   {
    "duration": 3,
    "start_time": "2023-02-09T11:08:21.561Z"
   },
   {
    "duration": 2,
    "start_time": "2023-02-09T11:08:22.486Z"
   },
   {
    "duration": 2,
    "start_time": "2023-02-09T11:08:23.066Z"
   },
   {
    "duration": 177,
    "start_time": "2023-02-09T11:08:24.017Z"
   },
   {
    "duration": 7402,
    "start_time": "2023-02-09T11:08:24.342Z"
   },
   {
    "duration": 4248,
    "start_time": "2023-02-09T11:08:31.745Z"
   },
   {
    "duration": 301,
    "start_time": "2023-02-09T11:08:35.999Z"
   },
   {
    "duration": 94,
    "start_time": "2023-02-09T11:08:36.307Z"
   },
   {
    "duration": 38,
    "start_time": "2023-02-09T11:08:36.405Z"
   },
   {
    "duration": 15,
    "start_time": "2023-02-09T11:08:36.444Z"
   },
   {
    "duration": 36,
    "start_time": "2023-02-09T11:08:36.461Z"
   },
   {
    "duration": 6,
    "start_time": "2023-02-09T11:08:36.503Z"
   },
   {
    "duration": 6,
    "start_time": "2023-02-09T11:08:36.511Z"
   },
   {
    "duration": 13,
    "start_time": "2023-02-09T11:08:37.098Z"
   },
   {
    "duration": 6,
    "start_time": "2023-02-09T11:08:38.465Z"
   },
   {
    "duration": 4,
    "start_time": "2023-02-09T11:08:39.786Z"
   },
   {
    "duration": 175,
    "start_time": "2023-02-09T11:08:42.709Z"
   },
   {
    "duration": 4,
    "start_time": "2023-02-09T11:08:43.873Z"
   },
   {
    "duration": 9,
    "start_time": "2023-02-09T11:08:46.871Z"
   },
   {
    "duration": 5,
    "start_time": "2023-02-09T11:08:47.824Z"
   },
   {
    "duration": 11,
    "start_time": "2023-02-09T11:08:49.889Z"
   },
   {
    "duration": 5,
    "start_time": "2023-02-09T11:08:55.618Z"
   },
   {
    "duration": 358,
    "start_time": "2023-02-09T11:11:53.367Z"
   },
   {
    "duration": 4404,
    "start_time": "2023-02-09T11:13:20.692Z"
   },
   {
    "duration": 7043,
    "start_time": "2023-02-09T11:13:45.435Z"
   },
   {
    "duration": 230,
    "start_time": "2023-02-09T11:14:20.511Z"
   },
   {
    "duration": 27,
    "start_time": "2023-02-09T11:16:22.206Z"
   },
   {
    "duration": 35,
    "start_time": "2023-02-09T11:19:25.608Z"
   },
   {
    "duration": 7,
    "start_time": "2023-02-09T11:21:48.768Z"
   },
   {
    "duration": 236,
    "start_time": "2023-02-09T11:24:36.131Z"
   },
   {
    "duration": 40,
    "start_time": "2023-02-09T11:24:36.904Z"
   },
   {
    "duration": 26,
    "start_time": "2023-02-09T11:24:37.910Z"
   },
   {
    "duration": 6,
    "start_time": "2023-02-09T11:24:38.767Z"
   },
   {
    "duration": 7,
    "start_time": "2023-02-09T11:24:40.276Z"
   },
   {
    "duration": 5,
    "start_time": "2023-02-09T11:24:41.506Z"
   },
   {
    "duration": 21,
    "start_time": "2023-02-09T11:24:42.008Z"
   },
   {
    "duration": 6,
    "start_time": "2023-02-09T11:24:42.176Z"
   },
   {
    "duration": 4,
    "start_time": "2023-02-09T11:24:42.340Z"
   },
   {
    "duration": 14,
    "start_time": "2023-02-09T11:24:42.606Z"
   },
   {
    "duration": 5,
    "start_time": "2023-02-09T11:24:42.809Z"
   },
   {
    "duration": 5,
    "start_time": "2023-02-09T11:24:43.135Z"
   },
   {
    "duration": 200,
    "start_time": "2023-02-09T11:24:45.048Z"
   },
   {
    "duration": 37,
    "start_time": "2023-02-09T11:33:25.246Z"
   },
   {
    "duration": 7,
    "start_time": "2023-02-09T11:33:27.264Z"
   },
   {
    "duration": 6,
    "start_time": "2023-02-09T11:33:28.225Z"
   },
   {
    "duration": 4,
    "start_time": "2023-02-09T11:33:29.019Z"
   },
   {
    "duration": 26,
    "start_time": "2023-02-09T11:33:30.010Z"
   },
   {
    "duration": 7,
    "start_time": "2023-02-09T11:33:30.639Z"
   },
   {
    "duration": 4,
    "start_time": "2023-02-09T11:33:30.859Z"
   },
   {
    "duration": 27,
    "start_time": "2023-02-09T11:33:31.672Z"
   },
   {
    "duration": 7,
    "start_time": "2023-02-09T11:33:32.340Z"
   },
   {
    "duration": 4,
    "start_time": "2023-02-09T11:33:33.342Z"
   },
   {
    "duration": 206,
    "start_time": "2023-02-09T11:33:35.012Z"
   },
   {
    "duration": 3,
    "start_time": "2023-02-09T11:43:57.161Z"
   },
   {
    "duration": 4,
    "start_time": "2023-02-09T11:43:58.412Z"
   },
   {
    "duration": 63,
    "start_time": "2023-02-09T11:43:59.125Z"
   },
   {
    "duration": 14,
    "start_time": "2023-02-09T11:44:00.119Z"
   },
   {
    "duration": 6,
    "start_time": "2023-02-09T11:44:01.820Z"
   },
   {
    "duration": 8237,
    "start_time": "2023-02-09T11:47:45.317Z"
   },
   {
    "duration": 6,
    "start_time": "2023-02-09T11:52:04.377Z"
   },
   {
    "duration": 11,
    "start_time": "2023-02-09T11:52:05.178Z"
   },
   {
    "duration": 6,
    "start_time": "2023-02-09T11:52:09.874Z"
   },
   {
    "duration": 11,
    "start_time": "2023-02-09T11:52:12.419Z"
   },
   {
    "duration": 39,
    "start_time": "2023-02-09T11:54:52.410Z"
   },
   {
    "duration": 363,
    "start_time": "2023-02-09T11:55:06.950Z"
   },
   {
    "duration": 51,
    "start_time": "2023-02-09T11:55:08.454Z"
   },
   {
    "duration": 241,
    "start_time": "2023-02-09T11:56:06.331Z"
   },
   {
    "duration": 241,
    "start_time": "2023-02-09T11:56:24.759Z"
   },
   {
    "duration": 9,
    "start_time": "2023-02-09T11:57:19.042Z"
   },
   {
    "duration": 6,
    "start_time": "2023-02-09T11:57:20.074Z"
   },
   {
    "duration": 5,
    "start_time": "2023-02-09T11:57:21.048Z"
   },
   {
    "duration": 29,
    "start_time": "2023-02-09T11:57:22.417Z"
   },
   {
    "duration": 7,
    "start_time": "2023-02-09T11:57:23.393Z"
   },
   {
    "duration": 4,
    "start_time": "2023-02-09T11:57:24.814Z"
   },
   {
    "duration": 58,
    "start_time": "2023-02-09T11:57:25.042Z"
   },
   {
    "duration": 13,
    "start_time": "2023-02-09T11:57:25.213Z"
   },
   {
    "duration": 5,
    "start_time": "2023-02-09T11:57:25.528Z"
   },
   {
    "duration": 182,
    "start_time": "2023-02-09T11:57:25.746Z"
   },
   {
    "duration": 44,
    "start_time": "2023-02-09T11:57:26.147Z"
   },
   {
    "duration": 22,
    "start_time": "2023-02-09T11:57:26.367Z"
   },
   {
    "duration": 20,
    "start_time": "2023-02-09T11:57:26.629Z"
   },
   {
    "duration": 4,
    "start_time": "2023-02-09T11:57:26.822Z"
   },
   {
    "duration": 8,
    "start_time": "2023-02-09T11:57:26.962Z"
   },
   {
    "duration": 5,
    "start_time": "2023-02-09T11:57:40.541Z"
   },
   {
    "duration": 4,
    "start_time": "2023-02-09T11:57:41.418Z"
   },
   {
    "duration": 69,
    "start_time": "2023-02-09T11:57:42.092Z"
   },
   {
    "duration": 16,
    "start_time": "2023-02-09T11:57:42.810Z"
   },
   {
    "duration": 4,
    "start_time": "2023-02-09T11:57:44.774Z"
   },
   {
    "duration": 5,
    "start_time": "2023-02-09T11:57:46.254Z"
   },
   {
    "duration": 18,
    "start_time": "2023-02-09T11:57:49.286Z"
   },
   {
    "duration": 14,
    "start_time": "2023-02-09T11:57:50.308Z"
   },
   {
    "duration": 152,
    "start_time": "2023-02-09T11:57:53.643Z"
   },
   {
    "duration": 1080,
    "start_time": "2023-02-09T11:59:22.862Z"
   },
   {
    "duration": 255,
    "start_time": "2023-02-09T11:59:25.125Z"
   },
   {
    "duration": 150,
    "start_time": "2023-02-09T12:00:49.870Z"
   },
   {
    "duration": 23,
    "start_time": "2023-02-09T12:01:43.778Z"
   },
   {
    "duration": 14,
    "start_time": "2023-02-09T12:02:17.688Z"
   },
   {
    "duration": 5,
    "start_time": "2023-02-09T12:02:18.671Z"
   },
   {
    "duration": 6,
    "start_time": "2023-02-09T12:02:19.479Z"
   },
   {
    "duration": 8,
    "start_time": "2023-02-09T12:02:20.249Z"
   },
   {
    "duration": 41,
    "start_time": "2023-02-09T12:02:21.992Z"
   },
   {
    "duration": 5,
    "start_time": "2023-02-09T12:02:23.003Z"
   },
   {
    "duration": 3,
    "start_time": "2023-02-09T12:02:24.716Z"
   },
   {
    "duration": 4,
    "start_time": "2023-02-09T12:02:25.552Z"
   },
   {
    "duration": 190,
    "start_time": "2023-02-09T12:02:33.272Z"
   },
   {
    "duration": 7825,
    "start_time": "2023-02-09T12:03:23.934Z"
   },
   {
    "duration": 4580,
    "start_time": "2023-02-09T12:03:55.571Z"
   },
   {
    "duration": 345,
    "start_time": "2023-02-09T12:08:03.552Z"
   },
   {
    "duration": 7,
    "start_time": "2023-02-09T12:08:05.886Z"
   },
   {
    "duration": 6,
    "start_time": "2023-02-09T12:08:14.845Z"
   },
   {
    "duration": 4,
    "start_time": "2023-02-09T12:08:15.716Z"
   },
   {
    "duration": 35,
    "start_time": "2023-02-09T12:08:19.722Z"
   },
   {
    "duration": 6,
    "start_time": "2023-02-09T12:08:21.119Z"
   },
   {
    "duration": 5,
    "start_time": "2023-02-09T12:08:22.047Z"
   },
   {
    "duration": 11,
    "start_time": "2023-02-09T12:08:23.214Z"
   },
   {
    "duration": 7,
    "start_time": "2023-02-09T12:09:30.231Z"
   },
   {
    "duration": 6,
    "start_time": "2023-02-09T12:09:30.993Z"
   },
   {
    "duration": 241,
    "start_time": "2023-02-09T12:09:31.596Z"
   },
   {
    "duration": 5,
    "start_time": "2023-02-09T12:09:37.861Z"
   },
   {
    "duration": 11,
    "start_time": "2023-02-09T12:09:39.015Z"
   },
   {
    "duration": 6,
    "start_time": "2023-02-09T12:09:40.450Z"
   },
   {
    "duration": 13,
    "start_time": "2023-02-09T12:09:42.013Z"
   },
   {
    "duration": 388,
    "start_time": "2023-02-09T12:11:31.492Z"
   },
   {
    "duration": 4608,
    "start_time": "2023-02-09T12:14:32.569Z"
   },
   {
    "duration": 6795,
    "start_time": "2023-02-09T12:17:27.324Z"
   },
   {
    "duration": 230,
    "start_time": "2023-02-09T12:19:04.719Z"
   },
   {
    "duration": 26,
    "start_time": "2023-02-09T12:20:07.407Z"
   },
   {
    "duration": 51,
    "start_time": "2023-02-09T12:20:35.444Z"
   },
   {
    "duration": 30,
    "start_time": "2023-02-09T12:21:09.644Z"
   },
   {
    "duration": 6,
    "start_time": "2023-02-09T12:22:09.910Z"
   },
   {
    "duration": 14,
    "start_time": "2023-02-09T12:22:11.100Z"
   },
   {
    "duration": 4,
    "start_time": "2023-02-09T12:22:12.158Z"
   },
   {
    "duration": 9,
    "start_time": "2023-02-09T12:22:35.010Z"
   },
   {
    "duration": 6,
    "start_time": "2023-02-09T12:22:35.877Z"
   },
   {
    "duration": 5,
    "start_time": "2023-02-09T12:22:36.948Z"
   },
   {
    "duration": 28,
    "start_time": "2023-02-09T12:22:37.802Z"
   },
   {
    "duration": 7,
    "start_time": "2023-02-09T12:22:41.345Z"
   },
   {
    "duration": 5,
    "start_time": "2023-02-09T12:22:42.261Z"
   },
   {
    "duration": 51,
    "start_time": "2023-02-09T12:22:51.948Z"
   },
   {
    "duration": 5,
    "start_time": "2023-02-09T12:22:52.660Z"
   },
   {
    "duration": 4,
    "start_time": "2023-02-09T12:22:53.306Z"
   },
   {
    "duration": 216,
    "start_time": "2023-02-09T12:23:03.213Z"
   },
   {
    "duration": 40,
    "start_time": "2023-02-09T12:23:06.650Z"
   },
   {
    "duration": 18,
    "start_time": "2023-02-09T12:30:37.778Z"
   },
   {
    "duration": 20,
    "start_time": "2023-02-09T12:31:10.399Z"
   },
   {
    "duration": 26,
    "start_time": "2023-02-09T12:32:22.382Z"
   },
   {
    "duration": 48,
    "start_time": "2023-02-09T12:34:48.156Z"
   },
   {
    "duration": 33,
    "start_time": "2023-02-09T12:34:56.652Z"
   },
   {
    "duration": 32,
    "start_time": "2023-02-09T12:35:35.006Z"
   },
   {
    "duration": 2,
    "start_time": "2023-02-09T12:35:42.319Z"
   },
   {
    "duration": 4,
    "start_time": "2023-02-09T12:35:42.598Z"
   },
   {
    "duration": 3,
    "start_time": "2023-02-09T12:35:43.157Z"
   },
   {
    "duration": 190,
    "start_time": "2023-02-09T12:35:44.122Z"
   },
   {
    "duration": 7466,
    "start_time": "2023-02-09T12:35:51.390Z"
   },
   {
    "duration": 4192,
    "start_time": "2023-02-09T12:36:29.981Z"
   },
   {
    "duration": 521,
    "start_time": "2023-02-09T12:36:34.175Z"
   },
   {
    "duration": 8,
    "start_time": "2023-02-09T12:36:34.699Z"
   },
   {
    "duration": 105,
    "start_time": "2023-02-09T12:36:34.710Z"
   },
   {
    "duration": 16,
    "start_time": "2023-02-09T12:36:34.817Z"
   },
   {
    "duration": 36,
    "start_time": "2023-02-09T12:36:34.835Z"
   },
   {
    "duration": 6,
    "start_time": "2023-02-09T12:36:34.873Z"
   },
   {
    "duration": 4,
    "start_time": "2023-02-09T12:36:35.052Z"
   },
   {
    "duration": 7,
    "start_time": "2023-02-09T12:36:35.482Z"
   },
   {
    "duration": 18,
    "start_time": "2023-02-09T12:36:35.695Z"
   },
   {
    "duration": 8,
    "start_time": "2023-02-09T12:36:36.001Z"
   },
   {
    "duration": 221,
    "start_time": "2023-02-09T12:36:36.283Z"
   },
   {
    "duration": 5,
    "start_time": "2023-02-09T12:36:43.804Z"
   },
   {
    "duration": 10,
    "start_time": "2023-02-09T12:36:44.868Z"
   },
   {
    "duration": 6,
    "start_time": "2023-02-09T12:36:45.791Z"
   },
   {
    "duration": 10,
    "start_time": "2023-02-09T12:36:46.541Z"
   },
   {
    "duration": 369,
    "start_time": "2023-02-09T12:36:48.709Z"
   },
   {
    "duration": 4453,
    "start_time": "2023-02-09T12:36:50.345Z"
   },
   {
    "duration": 6894,
    "start_time": "2023-02-09T12:36:54.801Z"
   },
   {
    "duration": 243,
    "start_time": "2023-02-09T12:37:01.710Z"
   },
   {
    "duration": 51,
    "start_time": "2023-02-09T12:37:01.955Z"
   },
   {
    "duration": 108,
    "start_time": "2023-02-09T12:37:02.008Z"
   },
   {
    "duration": 12,
    "start_time": "2023-02-09T12:37:02.118Z"
   },
   {
    "duration": 13,
    "start_time": "2023-02-09T12:37:02.132Z"
   },
   {
    "duration": 41,
    "start_time": "2023-02-09T12:37:02.146Z"
   },
   {
    "duration": 5,
    "start_time": "2023-02-09T12:37:02.189Z"
   },
   {
    "duration": 22,
    "start_time": "2023-02-09T12:37:02.196Z"
   },
   {
    "duration": 30,
    "start_time": "2023-02-09T12:37:02.220Z"
   },
   {
    "duration": 159,
    "start_time": "2023-02-09T12:37:02.252Z"
   },
   {
    "duration": 10,
    "start_time": "2023-02-09T12:37:02.413Z"
   },
   {
    "duration": 204,
    "start_time": "2023-02-09T12:37:02.424Z"
   },
   {
    "duration": 45,
    "start_time": "2023-02-09T12:37:04.301Z"
   },
   {
    "duration": 19,
    "start_time": "2023-02-09T12:40:17.348Z"
   },
   {
    "duration": 5,
    "start_time": "2023-02-09T12:44:35.260Z"
   },
   {
    "duration": 8,
    "start_time": "2023-02-09T12:44:36.110Z"
   },
   {
    "duration": 30,
    "start_time": "2023-02-09T12:44:38.013Z"
   },
   {
    "duration": 2,
    "start_time": "2023-02-09T12:44:39.087Z"
   },
   {
    "duration": 3,
    "start_time": "2023-02-09T12:44:40.049Z"
   },
   {
    "duration": 2,
    "start_time": "2023-02-09T12:44:40.808Z"
   },
   {
    "duration": 114,
    "start_time": "2023-02-09T12:44:42.458Z"
   },
   {
    "duration": 5788,
    "start_time": "2023-02-09T12:44:50.445Z"
   },
   {
    "duration": 123,
    "start_time": "2023-02-09T12:46:05.695Z"
   },
   {
    "duration": 5811,
    "start_time": "2023-02-09T12:46:06.115Z"
   },
   {
    "duration": 3522,
    "start_time": "2023-02-09T12:46:11.928Z"
   },
   {
    "duration": 145,
    "start_time": "2023-02-09T12:46:15.452Z"
   },
   {
    "duration": 94,
    "start_time": "2023-02-09T12:46:15.600Z"
   },
   {
    "duration": 11,
    "start_time": "2023-02-09T12:46:15.697Z"
   },
   {
    "duration": 13,
    "start_time": "2023-02-09T12:46:15.709Z"
   },
   {
    "duration": 28,
    "start_time": "2023-02-09T12:46:15.724Z"
   },
   {
    "duration": 43,
    "start_time": "2023-02-09T12:46:15.754Z"
   },
   {
    "duration": 8,
    "start_time": "2023-02-09T12:46:15.799Z"
   },
   {
    "duration": 19,
    "start_time": "2023-02-09T12:46:15.810Z"
   },
   {
    "duration": 163,
    "start_time": "2023-02-09T12:46:15.834Z"
   },
   {
    "duration": 17,
    "start_time": "2023-02-09T12:46:15.998Z"
   },
   {
    "duration": 184,
    "start_time": "2023-02-09T12:46:16.016Z"
   },
   {
    "duration": 4,
    "start_time": "2023-02-09T12:46:16.202Z"
   },
   {
    "duration": 27,
    "start_time": "2023-02-09T12:46:16.208Z"
   },
   {
    "duration": 12,
    "start_time": "2023-02-09T12:46:16.237Z"
   },
   {
    "duration": 28,
    "start_time": "2023-02-09T12:46:16.251Z"
   },
   {
    "duration": 329,
    "start_time": "2023-02-09T12:46:16.281Z"
   },
   {
    "duration": 4021,
    "start_time": "2023-02-09T12:46:16.612Z"
   },
   {
    "duration": 6677,
    "start_time": "2023-02-09T12:46:20.634Z"
   },
   {
    "duration": 236,
    "start_time": "2023-02-09T12:46:27.312Z"
   },
   {
    "duration": 47,
    "start_time": "2023-02-09T12:46:27.550Z"
   },
   {
    "duration": 102,
    "start_time": "2023-02-09T12:46:27.599Z"
   },
   {
    "duration": 19,
    "start_time": "2023-02-09T12:46:27.703Z"
   },
   {
    "duration": 5,
    "start_time": "2023-02-09T12:46:27.724Z"
   },
   {
    "duration": 21,
    "start_time": "2023-02-09T12:46:27.730Z"
   },
   {
    "duration": 5,
    "start_time": "2023-02-09T12:46:27.794Z"
   },
   {
    "duration": 3,
    "start_time": "2023-02-09T12:46:27.802Z"
   },
   {
    "duration": 18,
    "start_time": "2023-02-09T12:46:27.806Z"
   },
   {
    "duration": 170,
    "start_time": "2023-02-09T12:46:27.826Z"
   },
   {
    "duration": 7,
    "start_time": "2023-02-09T12:46:27.998Z"
   },
   {
    "duration": 191,
    "start_time": "2023-02-09T12:46:28.006Z"
   },
   {
    "duration": 21,
    "start_time": "2023-02-09T12:46:28.199Z"
   },
   {
    "duration": 4,
    "start_time": "2023-02-09T12:46:28.222Z"
   },
   {
    "duration": 10,
    "start_time": "2023-02-09T12:46:28.228Z"
   },
   {
    "duration": 22,
    "start_time": "2023-02-09T12:47:05.734Z"
   },
   {
    "duration": 4,
    "start_time": "2023-02-09T12:47:49.508Z"
   },
   {
    "duration": 8,
    "start_time": "2023-02-09T12:57:11.514Z"
   },
   {
    "duration": 7,
    "start_time": "2023-02-09T12:57:17.814Z"
   },
   {
    "duration": 4,
    "start_time": "2023-02-09T12:57:18.640Z"
   },
   {
    "duration": 24,
    "start_time": "2023-02-09T12:57:22.985Z"
   },
   {
    "duration": 6,
    "start_time": "2023-02-09T12:57:23.886Z"
   },
   {
    "duration": 4,
    "start_time": "2023-02-09T12:57:24.714Z"
   },
   {
    "duration": 10,
    "start_time": "2023-02-09T12:57:35.431Z"
   },
   {
    "duration": 6,
    "start_time": "2023-02-09T12:57:40.841Z"
   },
   {
    "duration": 4,
    "start_time": "2023-02-09T12:57:42.652Z"
   },
   {
    "duration": 173,
    "start_time": "2023-02-09T12:57:48.881Z"
   },
   {
    "duration": 10,
    "start_time": "2023-02-09T12:58:21.850Z"
   },
   {
    "duration": 6,
    "start_time": "2023-02-09T12:58:22.649Z"
   },
   {
    "duration": 5,
    "start_time": "2023-02-09T12:58:23.287Z"
   },
   {
    "duration": 10,
    "start_time": "2023-02-09T12:58:23.980Z"
   },
   {
    "duration": 36,
    "start_time": "2023-02-09T12:58:25.328Z"
   },
   {
    "duration": 3,
    "start_time": "2023-02-09T12:58:26.478Z"
   },
   {
    "duration": 3,
    "start_time": "2023-02-09T12:58:27.772Z"
   },
   {
    "duration": 3,
    "start_time": "2023-02-09T12:58:28.449Z"
   },
   {
    "duration": 130,
    "start_time": "2023-02-09T12:58:37.182Z"
   },
   {
    "duration": 6620,
    "start_time": "2023-02-09T13:00:03.032Z"
   },
   {
    "duration": 3515,
    "start_time": "2023-02-09T13:00:52.554Z"
   },
   {
    "duration": 452,
    "start_time": "2023-02-09T13:01:20.242Z"
   },
   {
    "duration": 7,
    "start_time": "2023-02-09T13:01:22.290Z"
   },
   {
    "duration": 5,
    "start_time": "2023-02-09T13:01:23.114Z"
   },
   {
    "duration": 5,
    "start_time": "2023-02-09T13:01:23.914Z"
   },
   {
    "duration": 25,
    "start_time": "2023-02-09T13:01:25.119Z"
   },
   {
    "duration": 5,
    "start_time": "2023-02-09T13:01:26.148Z"
   },
   {
    "duration": 4,
    "start_time": "2023-02-09T13:01:27.116Z"
   },
   {
    "duration": 13,
    "start_time": "2023-02-09T13:01:28.737Z"
   },
   {
    "duration": 5,
    "start_time": "2023-02-09T13:01:29.648Z"
   },
   {
    "duration": 5,
    "start_time": "2023-02-09T13:01:30.374Z"
   },
   {
    "duration": 179,
    "start_time": "2023-02-09T13:02:01.266Z"
   },
   {
    "duration": 5,
    "start_time": "2023-02-09T13:02:02.006Z"
   },
   {
    "duration": 9,
    "start_time": "2023-02-09T13:02:02.187Z"
   },
   {
    "duration": 6,
    "start_time": "2023-02-09T13:02:02.359Z"
   },
   {
    "duration": 12,
    "start_time": "2023-02-09T13:02:02.526Z"
   },
   {
    "duration": 392,
    "start_time": "2023-02-09T13:02:03.011Z"
   },
   {
    "duration": 4596,
    "start_time": "2023-02-09T13:02:04.641Z"
   },
   {
    "duration": 6857,
    "start_time": "2023-02-09T13:02:09.239Z"
   },
   {
    "duration": 246,
    "start_time": "2023-02-09T13:02:16.098Z"
   },
   {
    "duration": 58,
    "start_time": "2023-02-09T13:02:16.346Z"
   },
   {
    "duration": 89,
    "start_time": "2023-02-09T13:02:16.406Z"
   },
   {
    "duration": 9,
    "start_time": "2023-02-09T13:02:16.497Z"
   },
   {
    "duration": 6,
    "start_time": "2023-02-09T13:02:16.507Z"
   },
   {
    "duration": 23,
    "start_time": "2023-02-09T13:02:16.514Z"
   },
   {
    "duration": 5,
    "start_time": "2023-02-09T13:02:16.538Z"
   },
   {
    "duration": 7,
    "start_time": "2023-02-09T13:02:16.545Z"
   },
   {
    "duration": 141,
    "start_time": "2023-02-09T13:02:16.553Z"
   },
   {
    "duration": 12,
    "start_time": "2023-02-09T13:02:16.695Z"
   },
   {
    "duration": 6,
    "start_time": "2023-02-09T13:02:16.709Z"
   },
   {
    "duration": 238,
    "start_time": "2023-02-09T13:02:16.717Z"
   },
   {
    "duration": 7,
    "start_time": "2023-02-09T13:08:00.217Z"
   },
   {
    "duration": 6,
    "start_time": "2023-02-09T13:08:00.999Z"
   },
   {
    "duration": 4,
    "start_time": "2023-02-09T13:08:01.738Z"
   },
   {
    "duration": 20,
    "start_time": "2023-02-09T13:08:02.597Z"
   },
   {
    "duration": 6,
    "start_time": "2023-02-09T13:08:03.499Z"
   },
   {
    "duration": 5,
    "start_time": "2023-02-09T13:08:04.382Z"
   },
   {
    "duration": 19,
    "start_time": "2023-02-09T13:08:05.390Z"
   },
   {
    "duration": 7,
    "start_time": "2023-02-09T13:08:06.241Z"
   },
   {
    "duration": 4,
    "start_time": "2023-02-09T13:08:06.807Z"
   },
   {
    "duration": 187,
    "start_time": "2023-02-09T13:08:07.523Z"
   },
   {
    "duration": 5,
    "start_time": "2023-02-09T13:09:02.732Z"
   },
   {
    "duration": 8,
    "start_time": "2023-02-09T13:09:03.584Z"
   },
   {
    "duration": 4,
    "start_time": "2023-02-09T13:09:04.519Z"
   },
   {
    "duration": 10,
    "start_time": "2023-02-09T13:09:05.468Z"
   },
   {
    "duration": 11,
    "start_time": "2023-02-09T13:09:37.539Z"
   },
   {
    "duration": 3,
    "start_time": "2023-02-09T13:09:50.997Z"
   },
   {
    "duration": 5,
    "start_time": "2023-02-09T13:09:55.054Z"
   },
   {
    "duration": 2,
    "start_time": "2023-02-09T13:09:55.903Z"
   },
   {
    "duration": 353,
    "start_time": "2023-02-09T13:10:03.637Z"
   },
   {
    "duration": 7016,
    "start_time": "2023-02-09T13:13:18.695Z"
   },
   {
    "duration": 29,
    "start_time": "2023-02-09T13:16:06.221Z"
   },
   {
    "duration": 7,
    "start_time": "2023-02-09T13:16:15.165Z"
   },
   {
    "duration": 6,
    "start_time": "2023-02-09T13:16:16.058Z"
   },
   {
    "duration": 4,
    "start_time": "2023-02-09T13:16:16.781Z"
   },
   {
    "duration": 21,
    "start_time": "2023-02-09T13:16:18.754Z"
   },
   {
    "duration": 6,
    "start_time": "2023-02-09T13:16:19.792Z"
   },
   {
    "duration": 5,
    "start_time": "2023-02-09T13:16:20.592Z"
   },
   {
    "duration": 18,
    "start_time": "2023-02-09T13:16:21.396Z"
   },
   {
    "duration": 6,
    "start_time": "2023-02-09T13:16:21.618Z"
   },
   {
    "duration": 4,
    "start_time": "2023-02-09T13:16:22.317Z"
   },
   {
    "duration": 23,
    "start_time": "2023-02-09T13:17:09.654Z"
   },
   {
    "duration": 21,
    "start_time": "2023-02-09T13:17:11.549Z"
   },
   {
    "duration": 5,
    "start_time": "2023-02-09T13:17:15.081Z"
   },
   {
    "duration": 10,
    "start_time": "2023-02-09T13:17:16.152Z"
   },
   {
    "duration": 4,
    "start_time": "2023-02-09T13:18:30.240Z"
   },
   {
    "duration": 8,
    "start_time": "2023-02-09T13:18:35.385Z"
   },
   {
    "duration": 10,
    "start_time": "2023-02-09T13:21:55.407Z"
   },
   {
    "duration": 8,
    "start_time": "2023-02-09T13:21:55.594Z"
   },
   {
    "duration": 8,
    "start_time": "2023-02-09T13:21:55.990Z"
   },
   {
    "duration": 7,
    "start_time": "2023-02-09T13:21:56.262Z"
   },
   {
    "duration": 39,
    "start_time": "2023-02-09T13:21:56.587Z"
   },
   {
    "duration": 3,
    "start_time": "2023-02-09T13:21:56.842Z"
   },
   {
    "duration": 3,
    "start_time": "2023-02-09T13:21:57.043Z"
   },
   {
    "duration": 3,
    "start_time": "2023-02-09T13:21:57.256Z"
   },
   {
    "duration": 164,
    "start_time": "2023-02-09T13:21:57.614Z"
   },
   {
    "duration": 7816,
    "start_time": "2023-02-09T13:21:59.386Z"
   },
   {
    "duration": 7541,
    "start_time": "2023-02-09T13:22:47.281Z"
   },
   {
    "duration": 4958,
    "start_time": "2023-02-09T13:23:21.989Z"
   },
   {
    "duration": 234,
    "start_time": "2023-02-09T13:24:13.564Z"
   },
   {
    "duration": 6,
    "start_time": "2023-02-09T13:24:53.283Z"
   },
   {
    "duration": 6,
    "start_time": "2023-02-09T13:24:54.596Z"
   },
   {
    "duration": 4,
    "start_time": "2023-02-09T13:24:57.221Z"
   },
   {
    "duration": 7,
    "start_time": "2023-02-09T13:25:28.656Z"
   },
   {
    "duration": 5,
    "start_time": "2023-02-09T13:25:29.904Z"
   },
   {
    "duration": 5,
    "start_time": "2023-02-09T13:25:30.840Z"
   },
   {
    "duration": 32,
    "start_time": "2023-02-09T13:25:31.827Z"
   },
   {
    "duration": 6,
    "start_time": "2023-02-09T13:25:32.812Z"
   },
   {
    "duration": 5,
    "start_time": "2023-02-09T13:25:33.536Z"
   },
   {
    "duration": 123,
    "start_time": "2023-02-09T13:25:34.785Z"
   },
   {
    "duration": 5,
    "start_time": "2023-02-09T13:25:35.930Z"
   },
   {
    "duration": 5,
    "start_time": "2023-02-09T13:25:36.611Z"
   },
   {
    "duration": 200,
    "start_time": "2023-02-09T13:25:42.231Z"
   },
   {
    "duration": 4,
    "start_time": "2023-02-09T13:27:03.085Z"
   },
   {
    "duration": 14,
    "start_time": "2023-02-09T13:27:03.894Z"
   },
   {
    "duration": 5,
    "start_time": "2023-02-09T13:27:04.515Z"
   },
   {
    "duration": 3,
    "start_time": "2023-02-09T13:27:05.217Z"
   },
   {
    "duration": 662,
    "start_time": "2023-02-09T13:27:08.267Z"
   },
   {
    "duration": 639,
    "start_time": "2023-02-09T13:27:27.440Z"
   },
   {
    "duration": 7756,
    "start_time": "2023-02-09T13:28:50.667Z"
   },
   {
    "duration": 12292,
    "start_time": "2023-02-09T13:29:53.281Z"
   },
   {
    "duration": 498,
    "start_time": "2023-02-09T13:30:43.765Z"
   },
   {
    "duration": 37,
    "start_time": "2023-02-09T13:31:23.583Z"
   },
   {
    "duration": 6,
    "start_time": "2023-02-09T13:31:55.714Z"
   },
   {
    "duration": 5,
    "start_time": "2023-02-09T13:31:56.609Z"
   },
   {
    "duration": 4,
    "start_time": "2023-02-09T13:31:57.337Z"
   },
   {
    "duration": 38,
    "start_time": "2023-02-09T13:31:58.791Z"
   },
   {
    "duration": 5,
    "start_time": "2023-02-09T13:31:59.609Z"
   },
   {
    "duration": 5,
    "start_time": "2023-02-09T13:32:00.447Z"
   },
   {
    "duration": 12,
    "start_time": "2023-02-09T13:32:02.114Z"
   },
   {
    "duration": 6,
    "start_time": "2023-02-09T13:32:03.219Z"
   },
   {
    "duration": 5,
    "start_time": "2023-02-09T13:32:04.018Z"
   },
   {
    "duration": 5,
    "start_time": "2023-02-09T13:32:49.119Z"
   },
   {
    "duration": 7,
    "start_time": "2023-02-09T13:34:01.914Z"
   },
   {
    "duration": 8,
    "start_time": "2023-02-09T13:34:03.822Z"
   },
   {
    "duration": 67,
    "start_time": "2023-02-09T13:41:00.288Z"
   },
   {
    "duration": 51,
    "start_time": "2023-02-09T13:48:23.036Z"
   },
   {
    "duration": 46,
    "start_time": "2023-02-10T06:44:17.058Z"
   },
   {
    "duration": 1528,
    "start_time": "2023-02-10T06:45:43.902Z"
   },
   {
    "duration": 4,
    "start_time": "2023-02-10T06:46:24.815Z"
   },
   {
    "duration": 4,
    "start_time": "2023-02-10T06:46:37.050Z"
   },
   {
    "duration": 3,
    "start_time": "2023-02-10T06:47:27.578Z"
   },
   {
    "duration": 60,
    "start_time": "2023-02-10T06:48:10.436Z"
   },
   {
    "duration": 105,
    "start_time": "2023-02-10T06:57:40.190Z"
   },
   {
    "duration": 3,
    "start_time": "2023-02-10T06:58:17.809Z"
   },
   {
    "duration": 9,
    "start_time": "2023-02-10T06:58:26.283Z"
   },
   {
    "duration": 3,
    "start_time": "2023-02-10T06:58:32.889Z"
   },
   {
    "duration": 115,
    "start_time": "2023-02-10T06:58:33.383Z"
   },
   {
    "duration": 14,
    "start_time": "2023-02-10T06:58:33.553Z"
   },
   {
    "duration": 4,
    "start_time": "2023-02-10T06:58:33.901Z"
   },
   {
    "duration": 2,
    "start_time": "2023-02-10T06:58:34.176Z"
   },
   {
    "duration": 12,
    "start_time": "2023-02-10T06:58:35.860Z"
   },
   {
    "duration": 11,
    "start_time": "2023-02-10T06:59:10.766Z"
   },
   {
    "duration": 16,
    "start_time": "2023-02-10T06:59:25.874Z"
   },
   {
    "duration": 4,
    "start_time": "2023-02-10T06:59:38.014Z"
   },
   {
    "duration": 67,
    "start_time": "2023-02-10T06:59:40.048Z"
   },
   {
    "duration": 13,
    "start_time": "2023-02-10T06:59:40.854Z"
   },
   {
    "duration": 5,
    "start_time": "2023-02-10T06:59:42.510Z"
   },
   {
    "duration": 16,
    "start_time": "2023-02-10T06:59:44.447Z"
   },
   {
    "duration": 4,
    "start_time": "2023-02-10T07:00:08.083Z"
   },
   {
    "duration": 12,
    "start_time": "2023-02-10T07:00:27.007Z"
   },
   {
    "duration": 5,
    "start_time": "2023-02-10T07:01:28.184Z"
   },
   {
    "duration": 16,
    "start_time": "2023-02-10T07:01:37.301Z"
   },
   {
    "duration": 3,
    "start_time": "2023-02-10T07:02:14.075Z"
   },
   {
    "duration": 4,
    "start_time": "2023-02-10T07:02:15.450Z"
   },
   {
    "duration": 13,
    "start_time": "2023-02-10T07:03:40.390Z"
   },
   {
    "duration": 16,
    "start_time": "2023-02-10T07:03:41.927Z"
   },
   {
    "duration": 166,
    "start_time": "2023-02-10T07:03:45.504Z"
   },
   {
    "duration": 942,
    "start_time": "2023-02-10T07:03:50.037Z"
   },
   {
    "duration": 172,
    "start_time": "2023-02-10T07:03:53.648Z"
   },
   {
    "duration": 206,
    "start_time": "2023-02-10T07:03:55.457Z"
   },
   {
    "duration": 23,
    "start_time": "2023-02-10T07:03:57.127Z"
   },
   {
    "duration": 10,
    "start_time": "2023-02-10T07:03:58.700Z"
   },
   {
    "duration": 3,
    "start_time": "2023-02-10T07:04:00.488Z"
   },
   {
    "duration": 5,
    "start_time": "2023-02-10T07:04:01.274Z"
   },
   {
    "duration": 7,
    "start_time": "2023-02-10T07:04:02.207Z"
   },
   {
    "duration": 15,
    "start_time": "2023-02-10T07:06:13.936Z"
   },
   {
    "duration": 10,
    "start_time": "2023-02-10T07:06:19.984Z"
   },
   {
    "duration": 2,
    "start_time": "2023-02-10T07:06:21.755Z"
   },
   {
    "duration": 17,
    "start_time": "2023-02-10T07:06:22.633Z"
   },
   {
    "duration": 17,
    "start_time": "2023-02-10T07:06:23.432Z"
   },
   {
    "duration": 8,
    "start_time": "2023-02-10T07:07:42.515Z"
   },
   {
    "duration": 13,
    "start_time": "2023-02-10T07:08:23.940Z"
   },
   {
    "duration": 4,
    "start_time": "2023-02-10T07:08:25.033Z"
   },
   {
    "duration": 5,
    "start_time": "2023-02-10T07:08:27.285Z"
   },
   {
    "duration": 3,
    "start_time": "2023-02-10T07:08:28.137Z"
   },
   {
    "duration": 13,
    "start_time": "2023-02-10T07:08:30.375Z"
   },
   {
    "duration": 43,
    "start_time": "2023-02-10T07:10:13.160Z"
   },
   {
    "duration": 34,
    "start_time": "2023-02-10T07:11:19.536Z"
   },
   {
    "duration": 59,
    "start_time": "2023-02-10T07:11:42.297Z"
   },
   {
    "duration": 3,
    "start_time": "2023-02-10T07:12:08.153Z"
   },
   {
    "duration": 3,
    "start_time": "2023-02-10T07:12:08.652Z"
   },
   {
    "duration": 2,
    "start_time": "2023-02-10T07:12:08.889Z"
   },
   {
    "duration": 120,
    "start_time": "2023-02-10T07:13:34.448Z"
   },
   {
    "duration": 5842,
    "start_time": "2023-02-10T07:13:50.980Z"
   },
   {
    "duration": 3283,
    "start_time": "2023-02-10T07:13:56.824Z"
   },
   {
    "duration": 4,
    "start_time": "2023-02-10T07:15:13.262Z"
   },
   {
    "duration": 48,
    "start_time": "2023-02-10T07:22:18.997Z"
   },
   {
    "duration": 52,
    "start_time": "2023-02-10T07:22:39.343Z"
   },
   {
    "duration": 6,
    "start_time": "2023-02-10T07:23:22.487Z"
   },
   {
    "duration": 44,
    "start_time": "2023-02-10T07:23:33.350Z"
   },
   {
    "duration": 58,
    "start_time": "2023-02-10T07:24:01.411Z"
   },
   {
    "duration": 53,
    "start_time": "2023-02-10T07:25:04.384Z"
   },
   {
    "duration": 55,
    "start_time": "2023-02-10T07:25:38.380Z"
   },
   {
    "duration": 3277,
    "start_time": "2023-02-10T07:26:27.064Z"
   },
   {
    "duration": 3,
    "start_time": "2023-02-10T07:26:40.580Z"
   },
   {
    "duration": 218,
    "start_time": "2023-02-10T07:27:43.421Z"
   },
   {
    "duration": 10,
    "start_time": "2023-02-10T07:27:44.900Z"
   },
   {
    "duration": 7,
    "start_time": "2023-02-10T07:27:45.572Z"
   },
   {
    "duration": 4,
    "start_time": "2023-02-10T07:27:45.988Z"
   },
   {
    "duration": 34,
    "start_time": "2023-02-10T07:27:46.155Z"
   },
   {
    "duration": 6,
    "start_time": "2023-02-10T07:27:46.330Z"
   },
   {
    "duration": 4,
    "start_time": "2023-02-10T07:27:46.601Z"
   },
   {
    "duration": 8,
    "start_time": "2023-02-10T07:27:46.800Z"
   },
   {
    "duration": 12,
    "start_time": "2023-02-10T07:27:46.938Z"
   },
   {
    "duration": 4,
    "start_time": "2023-02-10T07:27:47.070Z"
   },
   {
    "duration": 228,
    "start_time": "2023-02-10T07:27:48.629Z"
   },
   {
    "duration": 5,
    "start_time": "2023-02-10T07:27:52.458Z"
   },
   {
    "duration": 9,
    "start_time": "2023-02-10T07:27:53.184Z"
   },
   {
    "duration": 4,
    "start_time": "2023-02-10T07:28:00.521Z"
   },
   {
    "duration": 2,
    "start_time": "2023-02-10T07:28:04.053Z"
   },
   {
    "duration": 449,
    "start_time": "2023-02-10T07:32:48.591Z"
   },
   {
    "duration": 5922,
    "start_time": "2023-02-10T07:32:54.408Z"
   },
   {
    "duration": 9442,
    "start_time": "2023-02-10T07:33:00.332Z"
   },
   {
    "duration": 369,
    "start_time": "2023-02-10T07:33:09.776Z"
   },
   {
    "duration": 29,
    "start_time": "2023-02-10T07:33:10.147Z"
   },
   {
    "duration": 9,
    "start_time": "2023-02-10T07:33:10.237Z"
   },
   {
    "duration": 103,
    "start_time": "2023-02-10T07:33:10.248Z"
   },
   {
    "duration": 17,
    "start_time": "2023-02-10T07:33:10.353Z"
   },
   {
    "duration": 50,
    "start_time": "2023-02-10T07:33:10.371Z"
   },
   {
    "duration": 6,
    "start_time": "2023-02-10T07:33:10.423Z"
   },
   {
    "duration": 4,
    "start_time": "2023-02-10T07:33:10.431Z"
   },
   {
    "duration": 13,
    "start_time": "2023-02-10T07:33:10.437Z"
   },
   {
    "duration": 91,
    "start_time": "2023-02-10T07:33:10.451Z"
   },
   {
    "duration": 92,
    "start_time": "2023-02-10T07:33:10.545Z"
   },
   {
    "duration": 203,
    "start_time": "2023-02-10T07:33:10.639Z"
   },
   {
    "duration": 29,
    "start_time": "2023-02-10T07:47:41.337Z"
   },
   {
    "duration": 31,
    "start_time": "2023-02-10T07:47:42.316Z"
   },
   {
    "duration": 6,
    "start_time": "2023-02-10T07:53:11.527Z"
   },
   {
    "duration": 5,
    "start_time": "2023-02-10T08:09:36.869Z"
   },
   {
    "duration": 8,
    "start_time": "2023-02-10T08:09:39.223Z"
   },
   {
    "duration": 73,
    "start_time": "2023-02-10T08:13:20.207Z"
   },
   {
    "duration": 4,
    "start_time": "2023-02-10T08:13:37.868Z"
   },
   {
    "duration": 8,
    "start_time": "2023-02-10T08:13:39.066Z"
   },
   {
    "duration": 55,
    "start_time": "2023-02-10T08:13:41.379Z"
   },
   {
    "duration": 32,
    "start_time": "2023-02-10T08:16:34.756Z"
   },
   {
    "duration": 37,
    "start_time": "2023-02-10T08:16:35.636Z"
   },
   {
    "duration": 32,
    "start_time": "2023-02-10T08:18:19.963Z"
   },
   {
    "duration": 34,
    "start_time": "2023-02-10T08:18:33.980Z"
   },
   {
    "duration": 43,
    "start_time": "2023-02-10T08:18:52.627Z"
   },
   {
    "duration": 38,
    "start_time": "2023-02-10T08:19:32.751Z"
   },
   {
    "duration": 33,
    "start_time": "2023-02-10T08:19:39.895Z"
   },
   {
    "duration": 38,
    "start_time": "2023-02-10T08:19:51.914Z"
   },
   {
    "duration": 9,
    "start_time": "2023-02-10T08:22:24.564Z"
   },
   {
    "duration": 4,
    "start_time": "2023-02-10T08:36:34.135Z"
   },
   {
    "duration": 70,
    "start_time": "2023-02-10T08:36:35.012Z"
   },
   {
    "duration": 10,
    "start_time": "2023-02-10T08:36:35.084Z"
   },
   {
    "duration": 7,
    "start_time": "2023-02-10T08:36:36.059Z"
   },
   {
    "duration": 4,
    "start_time": "2023-02-10T08:36:36.956Z"
   },
   {
    "duration": 8,
    "start_time": "2023-02-10T08:36:37.567Z"
   },
   {
    "duration": 11,
    "start_time": "2023-02-10T08:36:37.924Z"
   },
   {
    "duration": 11,
    "start_time": "2023-02-10T08:36:38.081Z"
   },
   {
    "duration": 139,
    "start_time": "2023-02-10T08:36:38.668Z"
   },
   {
    "duration": 986,
    "start_time": "2023-02-10T08:36:39.684Z"
   },
   {
    "duration": 188,
    "start_time": "2023-02-10T08:36:40.799Z"
   },
   {
    "duration": 126,
    "start_time": "2023-02-10T08:36:41.824Z"
   },
   {
    "duration": 24,
    "start_time": "2023-02-10T08:36:42.856Z"
   },
   {
    "duration": 9,
    "start_time": "2023-02-10T08:36:44.214Z"
   },
   {
    "duration": 3,
    "start_time": "2023-02-10T08:36:46.971Z"
   },
   {
    "duration": 5,
    "start_time": "2023-02-10T08:36:47.183Z"
   },
   {
    "duration": 4,
    "start_time": "2023-02-10T08:36:47.867Z"
   },
   {
    "duration": 9,
    "start_time": "2023-02-10T08:36:49.082Z"
   },
   {
    "duration": 31,
    "start_time": "2023-02-10T08:36:51.376Z"
   },
   {
    "duration": 34,
    "start_time": "2023-02-10T08:37:43.855Z"
   },
   {
    "duration": 116,
    "start_time": "2023-02-10T08:37:48.199Z"
   },
   {
    "duration": 135,
    "start_time": "2023-02-10T08:38:15.364Z"
   },
   {
    "duration": 6338,
    "start_time": "2023-02-10T08:40:06.554Z"
   },
   {
    "duration": 3518,
    "start_time": "2023-02-10T08:41:09.630Z"
   },
   {
    "duration": 192,
    "start_time": "2023-02-10T08:42:35.050Z"
   },
   {
    "duration": 5,
    "start_time": "2023-02-10T08:43:13.089Z"
   },
   {
    "duration": 4,
    "start_time": "2023-02-10T08:43:14.288Z"
   },
   {
    "duration": 4,
    "start_time": "2023-02-10T08:43:18.271Z"
   },
   {
    "duration": 6,
    "start_time": "2023-02-10T08:43:36.667Z"
   },
   {
    "duration": 5,
    "start_time": "2023-02-10T08:43:37.124Z"
   },
   {
    "duration": 4,
    "start_time": "2023-02-10T08:43:38.612Z"
   },
   {
    "duration": 24,
    "start_time": "2023-02-10T08:43:39.477Z"
   },
   {
    "duration": 4,
    "start_time": "2023-02-10T08:43:40.408Z"
   },
   {
    "duration": 7,
    "start_time": "2023-02-10T08:43:41.237Z"
   },
   {
    "duration": 14,
    "start_time": "2023-02-10T08:43:42.465Z"
   },
   {
    "duration": 9,
    "start_time": "2023-02-10T08:43:45.135Z"
   },
   {
    "duration": 3,
    "start_time": "2023-02-10T08:43:45.978Z"
   },
   {
    "duration": 188,
    "start_time": "2023-02-10T08:43:48.001Z"
   },
   {
    "duration": 282,
    "start_time": "2023-02-10T08:43:57.432Z"
   },
   {
    "duration": 7,
    "start_time": "2023-02-10T08:45:43.255Z"
   },
   {
    "duration": 5,
    "start_time": "2023-02-10T08:45:44.496Z"
   },
   {
    "duration": 4,
    "start_time": "2023-02-10T08:45:45.889Z"
   },
   {
    "duration": 27,
    "start_time": "2023-02-10T08:45:46.877Z"
   },
   {
    "duration": 5,
    "start_time": "2023-02-10T08:45:47.671Z"
   },
   {
    "duration": 3,
    "start_time": "2023-02-10T08:45:48.013Z"
   },
   {
    "duration": 20,
    "start_time": "2023-02-10T08:45:48.217Z"
   },
   {
    "duration": 14,
    "start_time": "2023-02-10T08:45:50.433Z"
   },
   {
    "duration": 3,
    "start_time": "2023-02-10T08:45:51.208Z"
   },
   {
    "duration": 182,
    "start_time": "2023-02-10T08:45:52.818Z"
   },
   {
    "duration": 5,
    "start_time": "2023-02-10T08:46:06.117Z"
   },
   {
    "duration": 51,
    "start_time": "2023-02-10T08:46:06.785Z"
   },
   {
    "duration": 16,
    "start_time": "2023-02-10T08:46:07.069Z"
   },
   {
    "duration": 6,
    "start_time": "2023-02-10T08:46:07.488Z"
   },
   {
    "duration": 3,
    "start_time": "2023-02-10T08:46:07.823Z"
   },
   {
    "duration": 5,
    "start_time": "2023-02-10T08:46:08.220Z"
   },
   {
    "duration": 20,
    "start_time": "2023-02-10T08:46:08.539Z"
   },
   {
    "duration": 11,
    "start_time": "2023-02-10T08:46:08.960Z"
   },
   {
    "duration": 145,
    "start_time": "2023-02-10T08:46:09.738Z"
   },
   {
    "duration": 943,
    "start_time": "2023-02-10T08:46:10.281Z"
   },
   {
    "duration": 193,
    "start_time": "2023-02-10T08:46:11.226Z"
   },
   {
    "duration": 113,
    "start_time": "2023-02-10T08:46:16.810Z"
   },
   {
    "duration": 15,
    "start_time": "2023-02-10T08:46:18.702Z"
   },
   {
    "duration": 9,
    "start_time": "2023-02-10T08:46:19.086Z"
   },
   {
    "duration": 3,
    "start_time": "2023-02-10T08:46:19.490Z"
   },
   {
    "duration": 4,
    "start_time": "2023-02-10T08:46:19.776Z"
   },
   {
    "duration": 2,
    "start_time": "2023-02-10T08:46:19.955Z"
   },
   {
    "duration": 9,
    "start_time": "2023-02-10T08:46:20.263Z"
   },
   {
    "duration": 30,
    "start_time": "2023-02-10T08:46:20.494Z"
   },
   {
    "duration": 121,
    "start_time": "2023-02-10T08:46:28.184Z"
   },
   {
    "duration": 296,
    "start_time": "2023-02-10T08:47:03.562Z"
   },
   {
    "duration": 5797,
    "start_time": "2023-02-10T08:47:30.416Z"
   },
   {
    "duration": 13,
    "start_time": "2023-02-10T08:48:41.321Z"
   },
   {
    "duration": 4,
    "start_time": "2023-02-10T08:49:16.492Z"
   },
   {
    "duration": 6,
    "start_time": "2023-02-10T08:49:41.766Z"
   },
   {
    "duration": 12,
    "start_time": "2023-02-10T08:50:00.615Z"
   },
   {
    "duration": 11,
    "start_time": "2023-02-10T08:50:05.776Z"
   },
   {
    "duration": 9,
    "start_time": "2023-02-10T08:51:58.493Z"
   },
   {
    "duration": 7,
    "start_time": "2023-02-10T08:52:07.623Z"
   },
   {
    "duration": 15,
    "start_time": "2023-02-10T08:52:15.663Z"
   },
   {
    "duration": 4,
    "start_time": "2023-02-10T08:52:32.057Z"
   },
   {
    "duration": 76,
    "start_time": "2023-02-10T08:52:32.635Z"
   },
   {
    "duration": 13,
    "start_time": "2023-02-10T08:52:33.482Z"
   },
   {
    "duration": 7,
    "start_time": "2023-02-10T08:52:34.533Z"
   },
   {
    "duration": 5,
    "start_time": "2023-02-10T08:52:35.837Z"
   },
   {
    "duration": 6,
    "start_time": "2023-02-10T08:52:37.513Z"
   },
   {
    "duration": 5,
    "start_time": "2023-02-10T08:52:38.612Z"
   },
   {
    "duration": 10,
    "start_time": "2023-02-10T08:52:42.252Z"
   },
   {
    "duration": 5,
    "start_time": "2023-02-10T08:53:44.824Z"
   },
   {
    "duration": 11,
    "start_time": "2023-02-10T08:53:53.312Z"
   },
   {
    "duration": 5,
    "start_time": "2023-02-10T08:54:49.374Z"
   },
   {
    "duration": 4,
    "start_time": "2023-02-10T08:54:50.919Z"
   },
   {
    "duration": 14,
    "start_time": "2023-02-10T08:54:52.824Z"
   },
   {
    "duration": 49,
    "start_time": "2023-02-10T08:55:10.154Z"
   },
   {
    "duration": 4,
    "start_time": "2023-02-10T08:55:24.920Z"
   },
   {
    "duration": 15,
    "start_time": "2023-02-10T08:55:41.930Z"
   },
   {
    "duration": 12,
    "start_time": "2023-02-10T08:55:51.897Z"
   },
   {
    "duration": 11,
    "start_time": "2023-02-10T08:56:14.075Z"
   },
   {
    "duration": 9,
    "start_time": "2023-02-10T08:56:21.185Z"
   },
   {
    "duration": 11,
    "start_time": "2023-02-10T08:56:36.493Z"
   },
   {
    "duration": 28,
    "start_time": "2023-02-10T08:57:15.127Z"
   },
   {
    "duration": 3,
    "start_time": "2023-02-10T08:57:18.317Z"
   },
   {
    "duration": 12,
    "start_time": "2023-02-10T08:57:20.161Z"
   },
   {
    "duration": 4,
    "start_time": "2023-02-10T08:57:26.286Z"
   },
   {
    "duration": 61,
    "start_time": "2023-02-10T08:57:28.307Z"
   },
   {
    "duration": 18,
    "start_time": "2023-02-10T08:57:29.230Z"
   },
   {
    "duration": 4,
    "start_time": "2023-02-10T08:57:30.580Z"
   },
   {
    "duration": 2,
    "start_time": "2023-02-10T08:57:32.957Z"
   },
   {
    "duration": 20,
    "start_time": "2023-02-10T08:57:37.407Z"
   },
   {
    "duration": 5,
    "start_time": "2023-02-10T08:57:38.321Z"
   },
   {
    "duration": 10,
    "start_time": "2023-02-10T08:57:47.352Z"
   },
   {
    "duration": 17,
    "start_time": "2023-02-10T08:57:53.290Z"
   },
   {
    "duration": 56,
    "start_time": "2023-02-10T08:57:59.714Z"
   },
   {
    "duration": 11,
    "start_time": "2023-02-10T08:58:00.912Z"
   },
   {
    "duration": 4,
    "start_time": "2023-02-10T08:58:02.276Z"
   },
   {
    "duration": 3,
    "start_time": "2023-02-10T08:58:03.964Z"
   },
   {
    "duration": 5,
    "start_time": "2023-02-10T08:58:20.565Z"
   },
   {
    "duration": 56,
    "start_time": "2023-02-10T08:58:22.458Z"
   },
   {
    "duration": 12,
    "start_time": "2023-02-10T08:58:22.965Z"
   },
   {
    "duration": 4,
    "start_time": "2023-02-10T08:58:24.260Z"
   },
   {
    "duration": 3,
    "start_time": "2023-02-10T08:58:25.466Z"
   },
   {
    "duration": 23,
    "start_time": "2023-02-10T08:58:26.732Z"
   },
   {
    "duration": 4,
    "start_time": "2023-02-10T08:58:27.389Z"
   },
   {
    "duration": 4,
    "start_time": "2023-02-10T08:58:45.963Z"
   },
   {
    "duration": 51,
    "start_time": "2023-02-10T08:58:46.456Z"
   },
   {
    "duration": 12,
    "start_time": "2023-02-10T08:58:46.648Z"
   },
   {
    "duration": 4,
    "start_time": "2023-02-10T08:58:47.023Z"
   },
   {
    "duration": 2,
    "start_time": "2023-02-10T08:58:47.332Z"
   },
   {
    "duration": 13,
    "start_time": "2023-02-10T08:58:47.759Z"
   },
   {
    "duration": 5,
    "start_time": "2023-02-10T08:58:49.248Z"
   },
   {
    "duration": 14,
    "start_time": "2023-02-10T08:59:00.557Z"
   },
   {
    "duration": 6,
    "start_time": "2023-02-10T08:59:11.815Z"
   },
   {
    "duration": 10,
    "start_time": "2023-02-10T08:59:23.280Z"
   },
   {
    "duration": 9,
    "start_time": "2023-02-10T08:59:37.955Z"
   },
   {
    "duration": 5,
    "start_time": "2023-02-10T08:59:43.427Z"
   },
   {
    "duration": 10,
    "start_time": "2023-02-10T08:59:44.606Z"
   },
   {
    "duration": 4,
    "start_time": "2023-02-10T08:59:51.163Z"
   },
   {
    "duration": 11,
    "start_time": "2023-02-10T08:59:53.895Z"
   },
   {
    "duration": 5,
    "start_time": "2023-02-10T09:00:25.261Z"
   },
   {
    "duration": 51,
    "start_time": "2023-02-10T09:00:27.277Z"
   },
   {
    "duration": 12,
    "start_time": "2023-02-10T09:00:28.097Z"
   },
   {
    "duration": 7,
    "start_time": "2023-02-10T09:00:30.433Z"
   },
   {
    "duration": 3,
    "start_time": "2023-02-10T09:00:32.048Z"
   },
   {
    "duration": 21,
    "start_time": "2023-02-10T09:00:33.330Z"
   },
   {
    "duration": 14,
    "start_time": "2023-02-10T09:00:35.614Z"
   },
   {
    "duration": 4,
    "start_time": "2023-02-10T09:00:37.398Z"
   },
   {
    "duration": 18,
    "start_time": "2023-02-10T09:00:42.026Z"
   },
   {
    "duration": 6,
    "start_time": "2023-02-10T09:01:19.868Z"
   },
   {
    "duration": 21,
    "start_time": "2023-02-10T09:01:23.431Z"
   },
   {
    "duration": 16,
    "start_time": "2023-02-10T09:02:16.070Z"
   },
   {
    "duration": 11,
    "start_time": "2023-02-10T09:03:11.385Z"
   },
   {
    "duration": 6,
    "start_time": "2023-02-10T09:03:15.067Z"
   },
   {
    "duration": 12,
    "start_time": "2023-02-10T09:03:16.265Z"
   },
   {
    "duration": 11,
    "start_time": "2023-02-10T09:03:17.676Z"
   },
   {
    "duration": 133,
    "start_time": "2023-02-10T09:04:21.079Z"
   },
   {
    "duration": 1040,
    "start_time": "2023-02-10T09:04:22.750Z"
   },
   {
    "duration": 184,
    "start_time": "2023-02-10T09:04:23.986Z"
   },
   {
    "duration": 126,
    "start_time": "2023-02-10T09:04:24.890Z"
   },
   {
    "duration": 19,
    "start_time": "2023-02-10T09:04:25.894Z"
   },
   {
    "duration": 11,
    "start_time": "2023-02-10T09:04:27.398Z"
   },
   {
    "duration": 7,
    "start_time": "2023-02-10T09:04:28.961Z"
   },
   {
    "duration": 5,
    "start_time": "2023-02-10T09:04:30.066Z"
   },
   {
    "duration": 2,
    "start_time": "2023-02-10T09:04:30.896Z"
   },
   {
    "duration": 10,
    "start_time": "2023-02-10T09:04:33.572Z"
   },
   {
    "duration": 31,
    "start_time": "2023-02-10T09:04:35.826Z"
   },
   {
    "duration": 215,
    "start_time": "2023-02-10T09:04:40.869Z"
   },
   {
    "duration": 5989,
    "start_time": "2023-02-10T09:04:54.667Z"
   },
   {
    "duration": 4521,
    "start_time": "2023-02-10T09:05:36.750Z"
   },
   {
    "duration": 361,
    "start_time": "2023-02-10T09:07:33.988Z"
   },
   {
    "duration": 6,
    "start_time": "2023-02-10T09:07:37.381Z"
   },
   {
    "duration": 6,
    "start_time": "2023-02-10T09:07:38.202Z"
   },
   {
    "duration": 4,
    "start_time": "2023-02-10T09:07:38.801Z"
   },
   {
    "duration": 33,
    "start_time": "2023-02-10T09:07:39.797Z"
   },
   {
    "duration": 5,
    "start_time": "2023-02-10T09:07:40.566Z"
   },
   {
    "duration": 4,
    "start_time": "2023-02-10T09:07:41.228Z"
   },
   {
    "duration": 21,
    "start_time": "2023-02-10T09:07:42.413Z"
   },
   {
    "duration": 8,
    "start_time": "2023-02-10T09:07:44.033Z"
   },
   {
    "duration": 5,
    "start_time": "2023-02-10T09:07:44.834Z"
   },
   {
    "duration": 5,
    "start_time": "2023-02-10T09:09:19.154Z"
   },
   {
    "duration": 12,
    "start_time": "2023-02-10T09:09:19.837Z"
   },
   {
    "duration": 4,
    "start_time": "2023-02-10T09:09:20.994Z"
   },
   {
    "duration": 3,
    "start_time": "2023-02-10T09:09:22.578Z"
   },
   {
    "duration": 463,
    "start_time": "2023-02-10T09:09:27.245Z"
   },
   {
    "duration": 6346,
    "start_time": "2023-02-10T09:10:53.480Z"
   },
   {
    "duration": 9946,
    "start_time": "2023-02-10T09:10:59.828Z"
   },
   {
    "duration": 10210,
    "start_time": "2023-02-10T09:12:45.209Z"
   },
   {
    "duration": 355,
    "start_time": "2023-02-10T09:13:34.514Z"
   },
   {
    "duration": 24,
    "start_time": "2023-02-10T09:13:59.868Z"
   },
   {
    "duration": 6,
    "start_time": "2023-02-10T09:14:11.109Z"
   },
   {
    "duration": 5,
    "start_time": "2023-02-10T09:14:11.783Z"
   },
   {
    "duration": 4,
    "start_time": "2023-02-10T09:14:12.168Z"
   },
   {
    "duration": 35,
    "start_time": "2023-02-10T09:14:12.416Z"
   },
   {
    "duration": 12,
    "start_time": "2023-02-10T09:14:12.656Z"
   },
   {
    "duration": 4,
    "start_time": "2023-02-10T09:14:12.795Z"
   },
   {
    "duration": 7,
    "start_time": "2023-02-10T09:14:16.124Z"
   },
   {
    "duration": 6,
    "start_time": "2023-02-10T09:14:17.369Z"
   },
   {
    "duration": 10,
    "start_time": "2023-02-10T09:14:18.135Z"
   },
   {
    "duration": 211,
    "start_time": "2023-02-10T09:14:20.365Z"
   },
   {
    "duration": 4,
    "start_time": "2023-02-10T09:18:53.155Z"
   },
   {
    "duration": 9,
    "start_time": "2023-02-10T09:18:55.234Z"
   },
   {
    "duration": 4,
    "start_time": "2023-02-10T09:19:05.151Z"
   },
   {
    "duration": 8,
    "start_time": "2023-02-10T09:19:06.255Z"
   },
   {
    "duration": 4,
    "start_time": "2023-02-10T09:20:04.059Z"
   },
   {
    "duration": 9,
    "start_time": "2023-02-10T09:20:05.243Z"
   },
   {
    "duration": 30,
    "start_time": "2023-02-10T09:21:23.178Z"
   },
   {
    "duration": 29,
    "start_time": "2023-02-10T09:21:23.976Z"
   },
   {
    "duration": 9,
    "start_time": "2023-02-10T09:21:24.747Z"
   },
   {
    "duration": 7,
    "start_time": "2023-02-10T09:25:00.161Z"
   },
   {
    "duration": 8,
    "start_time": "2023-02-10T09:25:01.934Z"
   },
   {
    "duration": 5,
    "start_time": "2023-02-10T09:25:52.173Z"
   },
   {
    "duration": 45,
    "start_time": "2023-02-10T09:36:49.472Z"
   },
   {
    "duration": 9,
    "start_time": "2023-02-10T11:28:37.459Z"
   }
  ],
  "kernelspec": {
   "display_name": "Python 3 (ipykernel)",
   "language": "python",
   "name": "python3"
  },
  "language_info": {
   "codemirror_mode": {
    "name": "ipython",
    "version": 3
   },
   "file_extension": ".py",
   "mimetype": "text/x-python",
   "name": "python",
   "nbconvert_exporter": "python",
   "pygments_lexer": "ipython3",
   "version": "3.10.9"
  },
  "toc": {
   "base_numbering": 1,
   "nav_menu": {},
   "number_sections": true,
   "sideBar": true,
   "skip_h1_title": true,
   "title_cell": "Содержание",
   "title_sidebar": "Contents",
   "toc_cell": true,
   "toc_position": {},
   "toc_section_display": true,
   "toc_window_display": false
  }
 },
 "nbformat": 4,
 "nbformat_minor": 2
}
